{
 "cells": [
  {
   "cell_type": "markdown",
   "id": "47959c66",
   "metadata": {},
   "source": [
    "# Welcome To EECS Day!\n"
   ]
  },
  {
   "cell_type": "markdown",
   "id": "08e04dd8",
   "metadata": {},
   "source": [
    "In this lab, we'll first be learning the basics of programming in Python with the eventual goal of making a Connect 4 game! This notebook will focus on giving you a crash course in Python, and the other notebook will go into actually creating the Connect 4 game. \n",
    "\n",
    "Feel free to go through this notebook at your own pace depending on your familiariy with Python and programming in general. If you have any questions along the way, don't be afraid to ask!\n",
    "\n",
    "Before we get started, look for the Kernel tab in the menu bar and press: Kernel > Restart & Clear output. This will just reset the development environment for this Jupyter notebook.\n",
    "\n",
    "Code in Jupyter notebooks is written in cells which you can run individually, but data from one can be used in another. First, locate this set of buttons in the toolbar above.\n",
    "\n",
    "<img src=\"Resources/toolbar.png\" width=\"130px\" style=\"float: left\"/> <br><br>\n",
    "\n",
    "To run a cell, click on the cell so it's highlighted green, then click the leftmost button in that group, the \"Run Cell\" button. Try this on the code cell below:"
   ]
  },
  {
   "cell_type": "code",
   "execution_count": null,
   "id": "f6d6e9f0",
   "metadata": {},
   "outputs": [],
   "source": [
    "# This is a code cell! You can click here to write/edit Python code\n",
    "# then click on the \"Run\" button above to run it.\n",
    "\n",
    "print(\"Hello, world! Welcome to EECS Day!\")\n"
   ]
  },
  {
   "cell_type": "markdown",
   "id": "415075a0",
   "metadata": {},
   "source": [
    "#### Woah, that did a thing!\n",
    "\n",
    "`print()` displays the message between the parentheses below the code cell. `print()` statements are very useful, as you'll soon see. You'll also soon see why the message is in quotes.\n",
    "\n",
    "And Python can do many more things, as we'll see shortly. First, though, there are two more buttons in the toolbar group above. You shouldn't need the rightmost one, but the center one (with the square) may be helpful. This is the \"Stop Cell\" button, and it can be used to, oddly enough, stop a cell from running. If you're tired of a cell running, you can click on the offending cell then click this button to stop it. We won't demonstrate it here, but it's there if you need it.\n",
    "\n",
    "Even if a cell doesn't have any code for you to write or edit, you should run it anyway! Later parts may depend on code from earlier parts."
   ]
  },
  {
   "cell_type": "markdown",
   "id": "5b4c54c1",
   "metadata": {},
   "source": [
    "#### Comments: A Comment\n",
    "\n",
    "Additionally, we should introduce <b>comments,</b> which you may have noticed above. Anything after a hashtag (**#**) in a line of Python code isn't actually run; it's just there as a note by the programmer. These are really useful to document what code does in-line with the code itself, and using them is considered *really* good coding practice."
   ]
  },
  {
   "cell_type": "markdown",
   "id": "4930a063",
   "metadata": {},
   "source": [
    "## Let's get started: Variables\n",
    "\n",
    "We're going to jump right into **variables.** Much like in algebra, variables in programming allow us to put a placeholder in our code to \"stand-in\" for a value. Unlike in algebra, however, variables in programming can stand in for much more than just numbers, such as strings of text (called **strings,** oddly enough) and much more!\n",
    "\n",
    "Variables in Python are defined with an equals sign, with the name of the variable on the left and the initial value on the right. Fill in the variables in the code cell below by replacing the written values to the right of the equals sign with your own answers!"
   ]
  },
  {
   "cell_type": "code",
   "execution_count": null,
   "id": "b6eeb9f2",
   "metadata": {},
   "outputs": [],
   "source": [
    "# Fill in your first and last name below by replacing FirstName and LastName\n",
    "# These are string types, and when you type string values they're surrounded\n",
    "# with quotes.\n",
    "\n",
    "first_name = \"Steve\"\n",
    "last_name = \"Jobs\"\n",
    "\n",
    "# Strings can be combined using the + operator This is called string\n",
    "# concatenation\n",
    "full_name = first_name + \" \" + last_name\n",
    "\n",
    "# While we're at it, what's your favorite color?\n",
    "favorite_color = \"Purple\"\n",
    "\n",
    "# Now, what's your favorite number? This is a number type. Notice it doesn't\n",
    "# have quotes? Numbers don't have them.\n",
    "favorite_number = 0\n",
    "\n",
    "# Is this lab cool? This is called a boolean type, it can either be True or\n",
    "# False. The correct answer here is True, by the way ;)\n",
    "lab_cool = True"
   ]
  },
  {
   "cell_type": "markdown",
   "id": "0cddcfda",
   "metadata": {},
   "source": [
    "Run the cell above, and you'll notice it doesn't seem to do anything yet. Let's fix that! Run the following cell:"
   ]
  },
  {
   "cell_type": "code",
   "execution_count": null,
   "id": "823cbb26",
   "metadata": {},
   "outputs": [],
   "source": [
    "# We can view the values of variables with print()\n",
    "print(\"Full name:\", full_name)"
   ]
  },
  {
   "cell_type": "markdown",
   "id": "defc359b",
   "metadata": {},
   "source": [
    "Try playing around with the print() statement above. See if you can get it to print out the other variables you declared above. Once you're satisfied, feel free to move on."
   ]
  },
  {
   "cell_type": "markdown",
   "id": "dbf9768c",
   "metadata": {},
   "source": [
    "## Lists\n",
    "\n",
    "Python also has something called a **list**, (an **array** in some other languages) which allows us to store multiple values in one variable. You can then access the values by *indexing* into the list, as we'll see below. Note that lists are kind of weird, in that the first index is actually position *zero.*"
   ]
  },
  {
   "cell_type": "code",
   "execution_count": null,
   "id": "83165570",
   "metadata": {},
   "outputs": [],
   "source": [
    "# We create the list here, starting with your first and last name in the\n",
    "# first two positions. Notice how we can use values and variables\n",
    "# interchangeably.\n",
    "info = [first_name, last_name, \"Hello!\"]\n",
    "\n",
    "# We print out the first value of the list, by indexing into position zero\n",
    "print(\"info[0]: \" + info[0])\n",
    "\n",
    "# We can also change the value at a particular index in the list. Try\n",
    "# putting a nickname in place of your first name!\n",
    "info[0] = \"Jeeves\"\n",
    "\n",
    "# Notice how the value at info[0] changed?\n",
    "print(\"info[0], updated: \" + info[0])\n",
    "\n",
    "# We can also just print out the whole list!\n",
    "print(\"info:\", info)\n",
    "\n",
    "# Using the len() function, we can also check to see how long a list is.\n",
    "print(\"Length: \")\n",
    "print(len(info))"
   ]
  },
  {
   "cell_type": "code",
   "execution_count": null,
   "id": "ec5b7e9b",
   "metadata": {},
   "outputs": [],
   "source": [
    "# We can even add your favorite color!\n",
    "# Note that info is a list while favorite_color is a string\n",
    "# In Python you can add lists to join them, but you can't add a list to a\n",
    "# string directly which is why we use \"[\" and \"]\" around favorite_color\n",
    "# in order to first make it into a list with one element.\n",
    "info = info + [favorite_color]\n",
    "\n",
    "print(\"info:\", info)\n",
    "\n",
    "# Another common way to add an element to the end of a list is to use the \n",
    "# .append() method. One difference is that this changes the list without you having\n",
    "# to assign the list to anything.\n",
    "info.append(favorite_number)\n",
    "\n",
    "print(\"info:\", info)"
   ]
  },
  {
   "cell_type": "markdown",
   "id": "87aec21f",
   "metadata": {},
   "source": [
    "## Functions\n",
    "\n",
    "Python has many built-in functions which *do things.* Functions take *arguments*, which are the comma-separated values in between the parentheses following the function name. You can even write your own functions, but we'll get into that later.\n",
    "\n",
    "We've already seen the `print()` function, which \"prints out\" its arguments, but there are many more. For now, however, we'll mostly be using `print()` and functions to manipulate data. Speaking of which..."
   ]
  },
  {
   "cell_type": "markdown",
   "id": "52047c6f",
   "metadata": {},
   "source": [
    "## Loops\n",
    "\n",
    "Let's say that we wanted to print out the numbers 0 through 4, we could do something like this (Try running it!):\n",
    "\n"
   ]
  },
  {
   "cell_type": "code",
   "execution_count": null,
   "id": "4e523e8a",
   "metadata": {},
   "outputs": [],
   "source": [
    "print(0)\n",
    "print(1)\n",
    "print(2)\n",
    "print(3)\n",
    "print(4)"
   ]
  },
  {
   "cell_type": "markdown",
   "id": "0f17574d",
   "metadata": {},
   "source": [
    "That wasn't too bad, but what if we wanted to print out numbers 0 through 1,000! Having to write out so many print statements would become super repetitive.\n",
    "Instead, we can simplify the code by using *loops.* There are two popular types of loops, `for` and `while` loops. First we'll take a look at the `for` loop."
   ]
  },
  {
   "cell_type": "code",
   "execution_count": null,
   "id": "7b51c005",
   "metadata": {},
   "outputs": [],
   "source": [
    "# This loop prints the numbers 0 through 4\n",
    "for i in range(0, 5, 1):\n",
    "    print(i)"
   ]
  },
  {
   "cell_type": "markdown",
   "id": "0279d074",
   "metadata": {},
   "source": [
    "Wow, that loop did so much stuff! Let's break it down.\n",
    "\n",
    "- Firstly, you probably noticed that the `print()` function call above is indented. Python uses indentation to group things together, so everything indented by one or more tabs under the `for` declaration will be looped over.\n",
    "- For loops starts with the `for` keyword that's highlighted in green. \n",
    "- Next is the variable name `i` which stores the current loop value. `in` is another necessary keyword. \n",
    "- Finally, we have the function `range(start, stop, step)` that takes in three arguments. `range()` returns numbers from `start` up to, but not including, `stop`, incrementing by size `step`.\n",
    "\n",
    "Try playing with the arguments to the `range` function! Can you print out every even number from 0 to 10 inclusive? </br><br>\n",
    "(*Hint*: To find the remainder, you can use the modulo operator `%`. For example, `9 % 3 = 0`.)"
   ]
  },
  {
   "cell_type": "markdown",
   "id": "e31b016f",
   "metadata": {},
   "source": [
    "We can even `for` loop over the contents of a list!"
   ]
  },
  {
   "cell_type": "code",
   "execution_count": null,
   "id": "adefba43",
   "metadata": {},
   "outputs": [],
   "source": [
    "# Here we loop over the contents of this list building up the variable\n",
    "# \"concatenated\" as we go\n",
    "\n",
    "loop_over_me = [first_name, last_name, \"is\", \"the\", \"best\"]\n",
    "\n",
    "concatenated = \"\"\n",
    "for element in loop_over_me:\n",
    "    concatenated = concatenated + element + \" \"\n",
    "    print(element)\n",
    "\n",
    "print(\"Concatenated string:\", concatenated)"
   ]
  },
  {
   "cell_type": "markdown",
   "id": "4a9ba0d3",
   "metadata": {},
   "source": [
    "There will be 5 iterations of the for loop above (meaning that the indented code inside of the for loop will execute 5 times).\n",
    "For each iteration of the loop, the `element` variable will be set to the current item in the `loop_over_me` loop. This means\n",
    "that for the first iteration `element = first_name`, then for the second iteration `element = last_name`, and finally for the last iteration\n",
    "of the loop `element = \"best\"`."
   ]
  },
  {
   "cell_type": "markdown",
   "id": "9fa845c9",
   "metadata": {},
   "source": [
    "`For` loops are great for iterating through an item of *known length*. But what if we don't know the length of the item that we want to iterate through? Introducing `while` loops!\n",
    "\n",
    "Let's make a simple dice game: We have a dice, and we win if we roll a 6. We want to see how many rolls it takes to win. Let's use a `while` loop to do this!"
   ]
  },
  {
   "cell_type": "code",
   "execution_count": null,
   "id": "af512bf5",
   "metadata": {
    "scrolled": true
   },
   "outputs": [],
   "source": [
    "import random as random\n",
    "rolled_number = random.randrange(1,7) # picks numbers randomly from 1 (inclusive) to 7 (exclusive)\n",
    "attempts = 1\n",
    "\n",
    "while rolled_number != 6:\n",
    "    print(\"You rolled a\", rolled_number)\n",
    "    attempts += 1\n",
    "    rolled_number = random.randrange(1,7)\n",
    "\n",
    "print(\"You rolled a\", rolled_number)\n",
    "print(\"It took you:\", attempts, \"attempts to roll a 6!\")"
   ]
  },
  {
   "cell_type": "markdown",
   "id": "27b88642",
   "metadata": {},
   "source": [
    "Wow, that loop was awesome! Let's examine what's happening here:\n",
    "- Again, everything that we want in the `while` loops is indented.\n",
    "- `while` loops work by checking a *condition* after each iteration. Here, we are checking if our rolled number was a 6.\n",
    "- Notice how we had no idea when we would roll a 6––this is when `while` loops come in handy and are better than `for` loops!\n",
    "- If we did not roll a 6, we rolled again, while incrementing the number of attempts we made by 1.\n",
    "- Once we finally roll a 6, then we exit the while loop and run the print statements that come afterwards"
   ]
  },
  {
   "cell_type": "markdown",
   "id": "669eaa14",
   "metadata": {},
   "source": [
    "## Conditionals\n",
    "\n",
    "We've done a lot so far, but we're not done yet! Next we're going to discuss conditional statements, which are *super important* in programming. We'll start with an example. Try running this cell with different values of `i`."
   ]
  },
  {
   "cell_type": "code",
   "execution_count": null,
   "id": "a82866f9",
   "metadata": {},
   "outputs": [],
   "source": [
    "# Try different values of i and see what's printed!\n",
    "i = 0\n",
    "\n",
    "if i < 0: # Checked first\n",
    "    print(\"Negative\")\n",
    "elif i > 0: # Checked next\n",
    "    print(\"Positive\")\n",
    "else: # Last\n",
    "    print(\"Zero\")"
   ]
  },
  {
   "cell_type": "markdown",
   "id": "74a3b346",
   "metadata": {},
   "source": [
    "Based on the value we chose for `i` we were able to see different outputs from the program.\n",
    "Conditionals are helpful when we want to execute different pieces of code based on a certain value."
   ]
  },
  {
   "cell_type": "markdown",
   "id": "d871131f",
   "metadata": {},
   "source": [
    "Based on the value we chose for `i` we were able to see different outputs from the program.\n",
    "Conditionals are helpful when we want to execute different pieces of code based on a certain value."
   ]
  },
  {
   "cell_type": "markdown",
   "id": "1c7b60a1",
   "metadata": {},
   "source": [
    "## Functions, Part 2\n",
    "\n",
    "At this point, you've used plenty of other people's functions, such as `print`. But it turns out you can also write your own!\n",
    "\n",
    "Functions allow you to write a section of code once and easily reuse it elsewhere in your program. Like loops and conditional statements, functions use indentation to group lines of code together. In Python, you *define* a function with a `def` statement.\n",
    "The function below prints every number from 1 up until some input `end`. Run the code cell below for an example."
   ]
  },
  {
   "cell_type": "code",
   "execution_count": null,
   "id": "9e02f36a",
   "metadata": {},
   "outputs": [],
   "source": [
    "def range_print(end):\n",
    "    for i in range(0, end + 1, 1):\n",
    "        print(i)"
   ]
  },
  {
   "cell_type": "markdown",
   "id": "0d99ed22",
   "metadata": {},
   "source": [
    "Well that's strange, it didn't *do anything*. The code above *defines* a function, but we haven't actually haven't yet told Python that we want to execute that code.\n",
    "This makes sense because we haven't told Python what the value of end will be.\n",
    "Run the code below to actually call the function that we defined."
   ]
  },
  {
   "cell_type": "code",
   "execution_count": null,
   "id": "e95859f7",
   "metadata": {},
   "outputs": [],
   "source": [
    "range_print(5)"
   ]
  },
  {
   "cell_type": "markdown",
   "id": "d59e769d",
   "metadata": {},
   "source": [
    "**Woah, look at that!**\n",
    "\n",
    "Functions are even more powerful though. Instead of just printing things, they can also *return* data back to the function caller with the `return` keyword. Run this example to see:"
   ]
  },
  {
   "cell_type": "code",
   "execution_count": null,
   "id": "9f33cb19",
   "metadata": {},
   "outputs": [],
   "source": [
    "def range_return(start, end):\n",
    "    lst = []\n",
    "    for i in range(start, end + 1, 1):\n",
    "        lst = lst + [i]\n",
    "    return lst"
   ]
  },
  {
   "cell_type": "code",
   "execution_count": null,
   "id": "1d3e1321",
   "metadata": {},
   "outputs": [],
   "source": [
    "print(range_return(1, 5))"
   ]
  },
  {
   "cell_type": "markdown",
   "id": "87ef796f",
   "metadata": {},
   "source": [
    "*So what's happening here?*\n",
    "\n",
    "The function `range_return()` returns a list of values in the specified range (inclusive on both bounds, try to figure out why). Then, the `print()` function takes that list as an argument and prints the list!"
   ]
  },
  {
   "cell_type": "markdown",
   "id": "616d7f42",
   "metadata": {},
   "source": [
    "## Lists, part 2\n",
    "\n",
    "So far, we've seen 1-D lists, but how could we represent something 2-dimensional like a Connect 4 board? The answer is creating a list of lists! Rather than storing a value like a number or string in the list, the elements of a 2-D list are themselves lists. Let's take a look at an example:"
   ]
  },
  {
   "cell_type": "code",
   "execution_count": null,
   "id": "9ad5575c",
   "metadata": {},
   "outputs": [],
   "source": [
    "# There are many ways to create a 2-D list in Python, the simplest \n",
    "# being to simply nest the lists within an outer list.\n",
    "# The following list consists of students' names, ages, and favorite foods.\n",
    "student_data = [[\"John\", \"15\", \"Pizza\"], \n",
    "                [\"Alice\", \"14\", \"Tacos\"], \n",
    "                [\"Bob\", \"16\", \"Burgers\"]]\n",
    "\n",
    "# Much like before, we can print out the first value of the list by \n",
    "# indexing into position zero. To get a specific value in the 2-D list, we\n",
    "# must index into it twice, once for the outer list and once for the inner.\n",
    "print(\"student_data[0]: \", student_data[0])\n",
    "print(\"Alice's favorite food is \" + student_data[1][2])\n",
    "\n",
    "# We can similarly change the value at a particular index in the list.\n",
    "# Try replacing Bob's student data with your own by filling in the blanks\n",
    "# with the appropriate values. Also try adding a new entry to the student data.\n",
    "\n",
    "# student_data[_] = _\n",
    "\n",
    "print(\"Updated student data: \", student_data)"
   ]
  },
  {
   "cell_type": "code",
   "execution_count": null,
   "id": "68aab536",
   "metadata": {},
   "outputs": [],
   "source": [
    "# We can also use loops to help set the values in a 2-D list.\n",
    "# The following sets up a grid so that each element is the product of\n",
    "# its row and column indices.\n",
    "grid = [[0,0,0,0,0],\n",
    "        [0,0,0,0,0],\n",
    "        [0,0,0,0,0],\n",
    "        [0,0,0,0,0]]\n",
    "\n",
    "for i in range(4):\n",
    "    for j in range(5):\n",
    "        grid[i][j] = i*j\n",
    "        \n",
    "print(grid)\n",
    "\n",
    "# Notice how the outer for loop ends at 4, which corresponds to the number\n",
    "# of rows, while the inner for loop ends at 5 which corresponds to the columns."
   ]
  },
  {
   "cell_type": "markdown",
   "id": "2be4ba84",
   "metadata": {},
   "source": [
    "## Putting it All Together"
   ]
  },
  {
   "cell_type": "markdown",
   "id": "a2a6e4c3",
   "metadata": {},
   "source": [
    "Below are some practice exercises to help you feel more comfortable with Python and put together everything we've covered so far!"
   ]
  },
  {
   "cell_type": "markdown",
   "id": "dbea59ff",
   "metadata": {},
   "source": [
    "1) Write a function which takes in an integer n and returns a list of numbers (1 to n) `li` where `li[i]` equals:\n",
    "* `\"fizz\"` if i is divisble 3\n",
    "* `\"buzz\"` if i is divisble by 5\n",
    "* `\"fizzbuzz\"` is i is divisible by 15\n",
    "* `i` otherwise.\n",
    "\n",
    "For example, fizzbuzz(6) should return `[1, 2, 'fizz', 4, 'buzz', 'fizz']`."
   ]
  },
  {
   "cell_type": "code",
   "execution_count": null,
   "id": "8e44dafd",
   "metadata": {},
   "outputs": [],
   "source": [
    "def fizz_buzz(n):\n",
    "    # Write your code here, replacing the pass below.\n",
    "    pass"
   ]
  },
  {
   "cell_type": "code",
   "execution_count": null,
   "id": "d3335a8d",
   "metadata": {},
   "outputs": [],
   "source": [
    "print(fizz_buzz(15))"
   ]
  },
  {
   "cell_type": "markdown",
   "id": "d7f0caa6",
   "metadata": {},
   "source": [
    "2) Write a function that takes in a Connect 4 board (i.e. a 2-D list) of pieces which are either `'red'` or `'yellow'` and returns the number of pieces which are red."
   ]
  },
  {
   "cell_type": "code",
   "execution_count": null,
   "id": "ae996d00",
   "metadata": {},
   "outputs": [],
   "source": [
    "import numpy as np\n",
    "# The following creates a random 5x5 grid of 'red' and 'yellow' pieces. \n",
    "grid = [['red' if val == 1 else \"yellow\" for val in np.random.binomial(size=5, n=1, p= 0.5)] for i in range(5)]\n",
    "grid"
   ]
  },
  {
   "cell_type": "code",
   "execution_count": null,
   "id": "4349eb3a",
   "metadata": {},
   "outputs": [],
   "source": [
    "def count_red_pieces(grid):\n",
    "    # Write your code here, replacing the pass below.\n",
    "    pass"
   ]
  },
  {
   "cell_type": "code",
   "execution_count": null,
   "id": "889a043a",
   "metadata": {},
   "outputs": [],
   "source": [
    "print(count_red_pieces(grid))"
   ]
  },
  {
   "cell_type": "markdown",
   "id": "3ccfed82",
   "metadata": {},
   "source": [
    "## Conclusion\n",
    "We know that was a lot of information, but feel free to look over this notebook again or ask us any questions! If there is time left, feel free to try the Connect 4 notebook for more advanced Python programming!\n",
    "\n"
   ]
  },
  {
   "cell_type": "markdown",
   "id": "e1884570",
   "metadata": {},
   "source": [
    "# Connect Four"
   ]
  },
  {
   "cell_type": "code",
   "execution_count": null,
   "id": "699d5528",
   "metadata": {},
   "outputs": [],
   "source": [
    "\"\"\"\n",
    "This code block is setup for later. You don't need to do anything here!\n",
    "\"\"\"\n",
    "\n",
    "import matplotlib.pyplot as plt\n",
    "import matplotlib.patches as patch\n",
    "\n",
    "def draw_grid():\n",
    "    #set axis limits of plot (x=0 to 4, y=0 to 4)\n",
    "    plt.axis([0, 4, 0, 4])\n",
    "\n",
    "    #vertical lines\n",
    "    plt.axline((1, 0), (1, 6))\n",
    "    plt.axline((2, 0), (2, 6))\n",
    "    plt.axline((3, 0), (3, 6))\n",
    "    plt.axline((4, 0), (4, 6))\n",
    "    plt.axline((5, 0), (5, 6))\n",
    "    plt.axline((6, 0), (6, 6))\n",
    "\n",
    "    #horizontal lines\n",
    "    plt.axline((0, 1), (7, 1))\n",
    "    plt.axline((0, 2), (7, 2))\n",
    "    plt.axline((0, 3), (7, 3))\n",
    "    plt.axline((0, 4), (7, 4))\n",
    "    plt.axline((0, 5), (7, 5))\n",
    "    \n",
    "    for col in range(len(connect_four_grid)):\n",
    "        for piece in range(len(connect_four_grid[col])):\n",
    "            draw_circle(col, piece, connect_four_grid[col][piece])\n",
    "    \n",
    "    plt.show()\n",
    "\n",
    "def draw_circle(x_gridsquare, y_gridsquare, color):\n",
    "    #add circle to plot (gca means \"get current axis\")\n",
    "    plt.gca().add_artist(patch.Ellipse((.5+(x_gridsquare), .5+(y_gridsquare)), .7, .9, facecolor=color))\n",
    "    \n",
    "def ask_input(name):\n",
    "    print(\"What column do you want to put your piece in, \" + name + \"?\")\n",
    "    return input()\n",
    "\n",
    "def check_win():\n",
    "    return False\n",
    "\n",
    "def play_connectfour():\n",
    "    print(\"What is player 1's name?\")\n",
    "    p1name = input()\n",
    "    print(\"What is player 2's name?\")\n",
    "    p2name = input()\n",
    "    p1turn = True\n",
    "    gameWon = False\n",
    "    while not gameWon:\n",
    "        if p1turn:\n",
    "            chosen_col = ask_input(p1name)\n",
    "            if chosen_col == \"quit\":\n",
    "                gameWon = True\n",
    "            else:\n",
    "                while not add_piece_to_board(int(chosen_col), 'red'):\n",
    "                    chosen_col = ask_input(p1name)\n",
    "            gameWon = check_win()\n",
    "            p1turn ^= True\n",
    "        else:\n",
    "            chosen_col = ask_input(p2name)\n",
    "            if chosen_col == \"quit\":\n",
    "                gameWon = True\n",
    "            else:\n",
    "                while not add_piece_to_board(int(chosen_col), 'blue'):\n",
    "                    chosen_col = ask_input(p2name)\n",
    "            gameWon = check_win()\n",
    "            p1turn ^= True\n",
    "        draw_grid()\n",
    "    if gameWon:\n",
    "        print(\"Game over!\")\n",
    "\n",
    "connect_four_grid = [\n",
    "    [],\n",
    "    [],\n",
    "    [],\n",
    "    []\n",
    "]"
   ]
  },
  {
   "cell_type": "markdown",
   "id": "c25a674d",
   "metadata": {},
   "source": [
    "As you can see, we have a grid now set up in the shape of a connect four board. But, we don't have any pieces! We will demonstrate how we can use a method to place pieces in the grid. Then, you'll work on creating a game that you and a friend can play!"
   ]
  },
  {
   "cell_type": "code",
   "execution_count": null,
   "id": "8dc33dd4",
   "metadata": {},
   "outputs": [],
   "source": [
    "draw_circle(1, 0, 'red')\n",
    "draw_circle(1, 1, 'blue')\n",
    "draw_grid()"
   ]
  },
  {
   "cell_type": "markdown",
   "id": "2bd3feab",
   "metadata": {},
   "source": [
    "In the example above, we use two methods in a specific order to create the game board. draw_circle has 3 arguments, an x value, a y value, and a color string. draw_grid has no arguments, and we have to call it last to draw the board correctly. Notice that the x and y values start counting from 0 instead of 1.\n",
    "\n",
    "In the cell below, try to draw a circle of your favorite color anywhere on the grid by filling in the blanks."
   ]
  },
  {
   "cell_type": "code",
   "execution_count": null,
   "id": "0b274641",
   "metadata": {
    "scrolled": false
   },
   "outputs": [],
   "source": [
    "#draw_circle(_, _, _)\n",
    "draw_grid()"
   ]
  },
  {
   "cell_type": "markdown",
   "id": "9d5d9df1",
   "metadata": {},
   "source": [
    "Now, let's talk about how we can play the game. Below, we've provided a function that will run through like a normal game of connect four. However, it doesn't work quite right just yet. Your task is to work through and fix the different things we will need in order to play the game!"
   ]
  },
  {
   "cell_type": "markdown",
   "id": "1b40e47b",
   "metadata": {},
   "source": [
    "## Step 1 - Adding pieces to the grid"
   ]
  },
  {
   "cell_type": "markdown",
   "id": "f54b3c32",
   "metadata": {},
   "source": [
    "First, we need a method that allows us to put a piece in the column we want. In real connect four, it's not possible to simply put a piece anywhere you want. Instead, you can only choose what column to put a piece in, and in our case we have to adapt this to 2-D lists like you've seen before."
   ]
  },
  {
   "cell_type": "code",
   "execution_count": null,
   "id": "51516b13",
   "metadata": {},
   "outputs": [],
   "source": [
    "connect_four_grid = [\n",
    "    [],\n",
    "    [],\n",
    "    [],\n",
    "    []\n",
    "]"
   ]
  },
  {
   "cell_type": "markdown",
   "id": "f117f172",
   "metadata": {},
   "source": [
    "This 2-D list represents our grid, and each of the inner lists represents a _column_ of pieces. So, for example, a list that looks like this:"
   ]
  },
  {
   "cell_type": "code",
   "execution_count": null,
   "id": "9c6f13eb",
   "metadata": {},
   "outputs": [],
   "source": [
    "connect_four_grid = [\n",
    "    ['red', 'red', 'red', 'blue'],\n",
    "    [],\n",
    "    ['yellow'],\n",
    "    ['purple', 'red']\n",
    "]"
   ]
  },
  {
   "cell_type": "markdown",
   "id": "3e861488",
   "metadata": {},
   "source": [
    "Would show up like this:"
   ]
  },
  {
   "cell_type": "code",
   "execution_count": null,
   "id": "3f733121",
   "metadata": {},
   "outputs": [],
   "source": [
    "draw_grid()"
   ]
  },
  {
   "cell_type": "markdown",
   "id": "402e3f21",
   "metadata": {},
   "source": [
    "But since we don't know ahead of time where the players want to put their pieces, we will make use of a function to handle this for us. Your job is to fill in the `add_piece_to_board` function below:"
   ]
  },
  {
   "cell_type": "code",
   "execution_count": null,
   "id": "8ca25e12",
   "metadata": {},
   "outputs": [],
   "source": [
    "def add_piece_to_board(column, color):\n",
    "    # There will be 2 cases: what to do normally, and what to do if the column is already full.\n",
    "    \n",
    "    \n",
    "    # We'll start with what to do normally.\n",
    "    # First, we need to make sure that the column isn't full yet.\n",
    "    # In other words, check that the len() function of the column isn't 4 or more.\n",
    "    # In that case, we need to add the given color into the column we have\n",
    "    # been given. For that, try using the function append().\n",
    "    # Then, we want to return a value that means that your move worked.\n",
    "    \n",
    "    ### YOUR CODE HERE ###\n",
    "        \n",
    "    # If the column is already full, though, we need a way to tell the player they can't do that.\n",
    "    # In this case, you don't need to add anything to the column or change it.\n",
    "    \n",
    "    ### YOUR CODE HERE ###"
   ]
  },
  {
   "cell_type": "markdown",
   "id": "8673d324",
   "metadata": {},
   "source": [
    "You can check your work with the cell below, to see if you can place your pieces right in a game."
   ]
  },
  {
   "cell_type": "code",
   "execution_count": null,
   "id": "8700beb4",
   "metadata": {
    "scrolled": false
   },
   "outputs": [],
   "source": [
    "connect_four_grid = [\n",
    "    [],\n",
    "    [],\n",
    "    [],\n",
    "    []\n",
    "]\n",
    "\n",
    "play_connectfour()"
   ]
  },
  {
   "cell_type": "markdown",
   "id": "bed4f7a0",
   "metadata": {},
   "source": [
    "## Step 2 - Checking if somebody has won the game"
   ]
  },
  {
   "cell_type": "markdown",
   "id": "4ce63182",
   "metadata": {},
   "source": [
    "Great! Now it's time to check if someone won the game. In the interest of keeping it reasonable, let's only consider vertical and horizontal wins."
   ]
  },
  {
   "cell_type": "code",
   "execution_count": null,
   "id": "557c547b",
   "metadata": {},
   "outputs": [],
   "source": [
    "def check_win(): # Return TRUE if there is a row or column of four, and FALSE if not\n",
    "    # Let's start by considering vertical wins first.\n",
    "    # You can use the array .count() function here to check how many of something there is in\n",
    "    # an array.\n",
    "    ### YOUR CODE HERE ###\n",
    "\n",
    "    # Now let's look at horizontal wins.\n",
    "    # This works much like the previous column wins, except since we're looking at rows,\n",
    "    # we have to use the transpose of the grid.\n",
    "    connect_four_grid_transpose = [list(i) for i in zip(*connect_four_grid)]\n",
    "    ### YOUR CODE HERE ###\n",
    "    \n",
    "    # And finally, if there is no win, remember to return False."
   ]
  },
  {
   "cell_type": "markdown",
   "id": "c8613d6a",
   "metadata": {},
   "source": [
    "## Playing the game"
   ]
  },
  {
   "cell_type": "markdown",
   "id": "43770488",
   "metadata": {},
   "source": [
    "Now it's time to test all the parts together. See if you can play the game!"
   ]
  },
  {
   "cell_type": "code",
   "execution_count": null,
   "id": "12ede92a",
   "metadata": {
    "scrolled": false
   },
   "outputs": [],
   "source": [
    "connect_four_grid = [\n",
    "    [],\n",
    "    [],\n",
    "    [],\n",
    "    []\n",
    "]\n",
    "\n",
    "play_connectfour()"
   ]
  },
  {
   "cell_type": "markdown",
   "id": "da4e54f6",
   "metadata": {},
   "source": [
    "## Extra Challenges"
   ]
  },
  {
   "cell_type": "markdown",
   "id": "3aaed1ed",
   "metadata": {},
   "source": [
    "Below, we have some extra challenges you can try if you have time. These are just for fun, so don't worry if you don't have time/aren't sure how to complete them."
   ]
  },
  {
   "cell_type": "markdown",
   "id": "77d5e285",
   "metadata": {},
   "source": [
    "### Extra challenge - Diagonal wins"
   ]
  },
  {
   "cell_type": "markdown",
   "id": "41bd5ec0",
   "metadata": {},
   "source": [
    "The check_win() function you wrote doesn't check for diagonal wins. Can you come up with a way to do this on a 4x4 board? Revisit that function above to try it out."
   ]
  },
  {
   "cell_type": "markdown",
   "id": "ffe42054",
   "metadata": {},
   "source": [
    "### Extra challenge - Full sized board"
   ]
  },
  {
   "cell_type": "markdown",
   "id": "f069d84e",
   "metadata": {},
   "source": [
    "In this version, we only have a 4x4 connect four grid. However, the real game is 7x6. In the Advanced version below, you can try to redo this lab with a full sized board for an extra challenge!"
   ]
  },
  {
   "cell_type": "markdown",
   "id": "1ef2d221",
   "metadata": {},
   "source": [
    "# Connect Four - Advanced"
   ]
  },
  {
   "cell_type": "markdown",
   "id": "aef02b81",
   "metadata": {},
   "source": [
    "In this version of connect four, you'll take on the task of rewriting it to use a 7x6 grid instead of a 4x4!"
   ]
  },
  {
   "cell_type": "code",
   "execution_count": null,
   "id": "9f7850b4",
   "metadata": {},
   "outputs": [],
   "source": [
    "\"\"\"\n",
    "This code block is setup for later. You don't need to do anything here!\n",
    "\"\"\"\n",
    "\n",
    "def draw_grid_adv():\n",
    "    #set axis limits of plot (x=0 to 7, y=0 to 6)\n",
    "    plt.axis([0, 7, 0, 6])\n",
    "\n",
    "    #vertical lines\n",
    "    plt.axline((1, 0), (1, 6))\n",
    "    plt.axline((2, 0), (2, 6))\n",
    "    plt.axline((3, 0), (3, 6))\n",
    "    plt.axline((4, 0), (4, 6))\n",
    "    plt.axline((5, 0), (5, 6))\n",
    "    plt.axline((6, 0), (6, 6))\n",
    "\n",
    "    #horizontal lines\n",
    "    plt.axline((0, 1), (7, 1))\n",
    "    plt.axline((0, 2), (7, 2))\n",
    "    plt.axline((0, 3), (7, 3))\n",
    "    plt.axline((0, 4), (7, 4))\n",
    "    plt.axline((0, 5), (7, 5))\n",
    "    \n",
    "    for col in range(len(connect_four_grid_adv)):\n",
    "        for piece in range(len(connect_four_grid_adv[col])):\n",
    "            draw_circle(col, piece, connect_four_grid_adv[col][piece])\n",
    "    \n",
    "    plt.show()\n",
    "\n",
    "def draw_circle(x_gridsquare, y_gridsquare, color):\n",
    "    #add circle to plot (gca means \"get current axis\")\n",
    "    plt.gca().add_artist(patch.Ellipse((.5+(x_gridsquare), .5+(y_gridsquare)), .7, .9, facecolor=color))\n",
    "    \n",
    "def ask_input(name):\n",
    "    print(\"What column do you want to put your piece in, \" + name + \"?\")\n",
    "    return input()\n",
    "\n",
    "def check_win_adv():\n",
    "    return False\n",
    "\n",
    "def play_connectfour_adv():\n",
    "    print(\"What is player 1's name?\")\n",
    "    p1name = input()\n",
    "    print(\"What is player 2's name?\")\n",
    "    p2name = input()\n",
    "    p1turn = True\n",
    "    gameWon = False\n",
    "    while not gameWon:\n",
    "        if p1turn:\n",
    "            chosen_col = ask_input(p1name)\n",
    "            if chosen_col == \"quit\":\n",
    "                gameWon = True\n",
    "            else:\n",
    "                while not add_piece_to_board_adv(int(chosen_col), 'red'):\n",
    "                    chosen_col = ask_input(p1name)\n",
    "            gameWon = check_win_adv()\n",
    "            p1turn ^= True\n",
    "        else:\n",
    "            chosen_col = ask_input(p2name)\n",
    "            if chosen_col == \"quit\":\n",
    "                gameWon = True\n",
    "            else:\n",
    "                while not add_piece_to_board_adv(int(chosen_col), 'blue'):\n",
    "                    chosen_col = ask_input(p2name)\n",
    "            gameWon = check_win_adv()\n",
    "            p1turn ^= True\n",
    "        draw_grid_adv()\n",
    "    if gameWon:\n",
    "        print(\"Game over!\")\n",
    "\n",
    "connect_four_grid_adv = [\n",
    "    [],\n",
    "    [],\n",
    "    [],\n",
    "    [],\n",
    "    [],\n",
    "    [],\n",
    "    []\n",
    "]"
   ]
  },
  {
   "cell_type": "markdown",
   "id": "dc8825b9",
   "metadata": {},
   "source": [
    "As you can see, we have a grid now set up in the shape of a connect four board. But, we don't have any pieces! We will demonstrate how we can use a method to place pieces in the grid. Then, you'll work on creating a game that you and a friend can play!"
   ]
  },
  {
   "cell_type": "code",
   "execution_count": null,
   "id": "76856416",
   "metadata": {},
   "outputs": [],
   "source": [
    "draw_circle(1, 0, 'red')\n",
    "draw_circle(1, 1, 'blue')\n",
    "draw_grid_adv()"
   ]
  },
  {
   "cell_type": "markdown",
   "id": "1edd5257",
   "metadata": {},
   "source": [
    "In the example above, we use two methods in a specific order to create the game board. draw_circle has 3 arguments, an x value, a y value, and a color string. draw_grid has no arguments, and we have to call it last to draw the board correctly. Notice that the x and y values start counting from 0 instead of 1.\n",
    "\n",
    "In the cell below, try to draw a circle of your favorite color anywhere on the grid by filling in the blanks."
   ]
  },
  {
   "cell_type": "code",
   "execution_count": null,
   "id": "28f8ecbd",
   "metadata": {
    "scrolled": false
   },
   "outputs": [],
   "source": [
    "#draw_circle(_, _, _)\n",
    "draw_grid_adv()"
   ]
  },
  {
   "cell_type": "markdown",
   "id": "71950830",
   "metadata": {},
   "source": [
    "Now, let's talk about how we can play the game. Below, we've provided a function that will run through like a normal game of connect four. However, it doesn't work quite right just yet. Your task is to work through and fix the different things we will need in order to play the game!"
   ]
  },
  {
   "cell_type": "markdown",
   "id": "081a10a2",
   "metadata": {},
   "source": [
    "## Step 1 - Adding pieces to the grid"
   ]
  },
  {
   "cell_type": "markdown",
   "id": "e4b2b46c",
   "metadata": {},
   "source": [
    "First, we need a method that allows us to put a piece in the column we want. In real connect four, it's not possible to simply put a piece anywhere you want. Instead, you can only choose what column to put a piece in, and in our case we have to adapt this to 2-D lists like you've seen before."
   ]
  },
  {
   "cell_type": "code",
   "execution_count": null,
   "id": "e0135cf1",
   "metadata": {},
   "outputs": [],
   "source": [
    "connect_four_grid_adv = [\n",
    "    [],\n",
    "    [],\n",
    "    [],\n",
    "    [],\n",
    "    [],\n",
    "    [],\n",
    "    []\n",
    "]"
   ]
  },
  {
   "cell_type": "markdown",
   "id": "55a92330",
   "metadata": {},
   "source": [
    "This 2-D list represents our grid, and each of the inner lists represents a _column_ of pieces. So, for example, a list that looks like this:"
   ]
  },
  {
   "cell_type": "code",
   "execution_count": null,
   "id": "1cca0c1c",
   "metadata": {},
   "outputs": [],
   "source": [
    "connect_four_grid_adv = [\n",
    "    ['red', 'red', 'red', 'blue'],\n",
    "    [],\n",
    "    [],\n",
    "    [],\n",
    "    ['yellow'],\n",
    "    [],\n",
    "    ['purple', 'red']\n",
    "]"
   ]
  },
  {
   "cell_type": "markdown",
   "id": "e0936a06",
   "metadata": {},
   "source": [
    "Would show up like this:"
   ]
  },
  {
   "cell_type": "code",
   "execution_count": null,
   "id": "5c00b04a",
   "metadata": {},
   "outputs": [],
   "source": [
    "draw_grid_adv()"
   ]
  },
  {
   "cell_type": "markdown",
   "id": "435a896b",
   "metadata": {},
   "source": [
    "But since we don't know ahead of time where the players want to put their pieces, we will make use of a function to handle this for us. Your job is to fill in the `add_piece_to_board` function below:"
   ]
  },
  {
   "cell_type": "code",
   "execution_count": null,
   "id": "64c27c2a",
   "metadata": {},
   "outputs": [],
   "source": [
    "def add_piece_to_board_adv(column, color):\n",
    "    # There will be 2 cases: what to do normally, and what to do if the column is already full.\n",
    "    \n",
    "    \n",
    "    # We'll start with what to do normally.\n",
    "    # First, we need to make sure that the column isn't full yet.\n",
    "    # In other words, check that the len() function of the column isn't 6 or more.\n",
    "    # In that case, we need to add the given color into the column we have\n",
    "    # been given. For that, try using the function append().\n",
    "    # Then, we want to return a value that means that your move worked.\n",
    "    \n",
    "    ### YOUR CODE HERE ###\n",
    "        \n",
    "    # If the column is already full, though, we need a way to tell the player they can't do that.\n",
    "    # In this case, you don't need to add anything to the column or change it.\n",
    "    \n",
    "    ### YOUR CODE HERE ###"
   ]
  },
  {
   "cell_type": "markdown",
   "id": "35a54df3",
   "metadata": {},
   "source": [
    "You can check your work with the cell below, to see if you can place your pieces right in a game."
   ]
  },
  {
   "cell_type": "code",
   "execution_count": null,
   "id": "883ae88f",
   "metadata": {
    "scrolled": false
   },
   "outputs": [],
   "source": [
    "connect_four_grid_adv = [\n",
    "    [],\n",
    "    [],\n",
    "    [],\n",
    "    [],\n",
    "    [],\n",
    "    [],\n",
    "    []\n",
    "]\n",
    "\n",
    "play_connectfour_adv()"
   ]
  },
  {
   "cell_type": "markdown",
   "id": "d862b538",
   "metadata": {},
   "source": [
    "## Step 2 - Checking if somebody has won the game"
   ]
  },
  {
   "cell_type": "markdown",
   "id": "6d2be006",
   "metadata": {},
   "source": [
    "Great! Now it's time to check if someone won the game. Since this is the advanced section, try to consider vertical, horizontal, and diagonal wins."
   ]
  },
  {
   "cell_type": "code",
   "execution_count": null,
   "id": "c37dd0ca",
   "metadata": {},
   "outputs": [],
   "source": [
    "def check_win_adv(): # Return TRUE if there is a row or column or diagonal of four, and FALSE if not\n",
    "    # Note that you shouldn't have to use the transpose for this, but here it is just in case:\n",
    "    connect_four_grid_transpose_adv = [list(i) for i in zip(*connect_four_grid_adv)]"
   ]
  },
  {
   "cell_type": "markdown",
   "id": "ae03d4fb",
   "metadata": {},
   "source": [
    "## Playing the game"
   ]
  },
  {
   "cell_type": "markdown",
   "id": "8e064845",
   "metadata": {},
   "source": [
    "Now it's time to test all the parts together. See if you can play the game!"
   ]
  },
  {
   "cell_type": "code",
   "execution_count": null,
   "id": "cb0c78dc",
   "metadata": {
    "scrolled": false
   },
   "outputs": [],
   "source": [
    "connect_four_grid_adv = [\n",
    "    [],\n",
    "    [],\n",
    "    [],\n",
    "    [],\n",
    "    [],\n",
    "    [],\n",
    "    []\n",
    "]\n",
    "\n",
    "play_connectfour_adv()"
   ]
  }
 ],
 "metadata": {
  "kernelspec": {
   "display_name": "Python 3 (ipykernel)",
   "language": "python",
   "name": "python3"
  },
  "language_info": {
   "codemirror_mode": {
    "name": "ipython",
    "version": 3
   },
   "file_extension": ".py",
   "mimetype": "text/x-python",
   "name": "python",
   "nbconvert_exporter": "python",
   "pygments_lexer": "ipython3",
   "version": "3.9.7"
  },
  "vscode": {
   "interpreter": {
    "hash": "b0fa6594d8f4cbf19f97940f81e996739fb7646882a419484c72d19e05852a7e"
   }
  }
 },
 "nbformat": 4,
 "nbformat_minor": 5
}
