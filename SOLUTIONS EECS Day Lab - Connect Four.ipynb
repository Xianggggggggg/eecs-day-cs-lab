{
 "cells": [
  {
   "cell_type": "markdown",
   "id": "43b681ad",
   "metadata": {},
   "source": [
    "# Welcome To EECS Day!\n"
   ]
  },
  {
   "cell_type": "markdown",
   "id": "fb88b91d",
   "metadata": {},
   "source": [
    "In this lab, we'll first be learning the basics of programming in Python with the eventual goal of making a Connect 4 game! This notebook will focus on giving you a crash course in Python, and the other notebook will go into actually creating the Connect 4 game. \n",
    "\n",
    "Feel free to go through this notebook at your own pace depending on your familiariy with Python and programming in general. If you have any questions along the way, don't be afraid to ask!\n",
    "\n",
    "Before we get started, look for the Kernel tab in the menu bar and press: Kernel > Restart & Clear output. This will just reset the development environment for this Jupyter notebook.\n",
    "\n",
    "Code in Jupyter notebooks is written in cells which you can run individually, but data from one can be used in another. First, locate this set of buttons in the toolbar above.\n",
    "\n",
    "<img src=\"Resources/toolbar.png\" width=\"130px\" style=\"float: left\"/> <br><br>\n",
    "\n",
    "To run a cell, click on the cell so it's highlighted green, then click the leftmost button in that group, the \"Run Cell\" button. Try this on the code cell below:"
   ]
  },
  {
   "cell_type": "code",
   "execution_count": null,
   "id": "053d0ac8",
   "metadata": {},
   "outputs": [],
   "source": [
    "# This is a code cell! You can click here to write/edit Python code\n",
    "# then click on the \"Run\" button above to run it.\n",
    "\n",
    "print(\"Hello, world! Welcome to EECS Day!\")\n"
   ]
  },
  {
   "cell_type": "markdown",
   "id": "dc5e8383",
   "metadata": {},
   "source": [
    "#### Woah, that did a thing!\n",
    "\n",
    "`print()` displays the message between the parentheses below the code cell. `print()` statements are very useful, as you'll soon see. You'll also soon see why the message is in quotes.\n",
    "\n",
    "And Python can do many more things, as we'll see shortly. First, though, there are two more buttons in the toolbar group above. You shouldn't need the rightmost one, but the center one (with the square) may be helpful. This is the \"Stop Cell\" button, and it can be used to, oddly enough, stop a cell from running. If you're tired of a cell running, you can click on the offending cell then click this button to stop it. We won't demonstrate it here, but it's there if you need it.\n",
    "\n",
    "Even if a cell doesn't have any code for you to write or edit, you should run it anyway! Later parts may depend on code from earlier parts."
   ]
  },
  {
   "cell_type": "markdown",
   "id": "b0bd0839",
   "metadata": {},
   "source": [
    "#### Comments: A Comment\n",
    "\n",
    "Additionally, we should introduce <b>comments,</b> which you may have noticed above. Anything after a hashtag (**#**) in a line of Python code isn't actually run; it's just there as a note by the programmer. These are really useful to document what code does in-line with the code itself, and using them is considered *really* good coding practice."
   ]
  },
  {
   "cell_type": "markdown",
   "id": "721baec9",
   "metadata": {},
   "source": [
    "## Let's get started: Variables\n",
    "\n",
    "We're going to jump right into **variables.** Much like in algebra, variables in programming allow us to put a placeholder in our code to \"stand-in\" for a value. Unlike in algebra, however, variables in programming can stand in for much more than just numbers, such as strings of text (called **strings,** oddly enough) and much more!\n",
    "\n",
    "Variables in Python are defined with an equals sign, with the name of the variable on the left and the initial value on the right. Fill in the variables in the code cell below by replacing the written values to the right of the equals sign with your own answers!"
   ]
  },
  {
   "cell_type": "code",
   "execution_count": null,
   "id": "9988acf3",
   "metadata": {},
   "outputs": [],
   "source": [
    "# Fill in your first and last name below by replacing FirstName and LastName\n",
    "# These are string types, and when you type string values they're surrounded\n",
    "# with quotes.\n",
    "\n",
    "first_name = \"Steve\"\n",
    "last_name = \"Jobs\"\n",
    "\n",
    "# Strings can be combined using the + operator This is called string\n",
    "# concatenation\n",
    "full_name = first_name + \" \" + last_name\n",
    "\n",
    "# While we're at it, what's your favorite color?\n",
    "favorite_color = \"Purple\"\n",
    "\n",
    "# Now, what's your favorite number? This is a number type. Notice it doesn't\n",
    "# have quotes? Numbers don't have them.\n",
    "favorite_number = 0\n",
    "\n",
    "# Is this lab cool? This is called a boolean type, it can either be True or\n",
    "# False. The correct answer here is True, by the way ;)\n",
    "lab_cool = True"
   ]
  },
  {
   "cell_type": "markdown",
   "id": "d43ffdf2",
   "metadata": {},
   "source": [
    "Run the cell above, and you'll notice it doesn't seem to do anything yet. Let's fix that! Run the following cell:"
   ]
  },
  {
   "cell_type": "code",
   "execution_count": null,
   "id": "8d65c305",
   "metadata": {},
   "outputs": [],
   "source": [
    "# We can view the values of variables with print()\n",
    "print(\"Full name:\", full_name)"
   ]
  },
  {
   "cell_type": "markdown",
   "id": "d27b7019",
   "metadata": {},
   "source": [
    "Try playing around with the print() statement above. See if you can get it to print out the other variables you declared above. Once you're satisfied, feel free to move on."
   ]
  },
  {
   "cell_type": "markdown",
   "id": "295b80e4",
   "metadata": {},
   "source": [
    "## Lists\n",
    "\n",
    "Python also has something called a **list**, (an **array** in some other languages) which allows us to store multiple values in one variable. You can then access the values by *indexing* into the list, as we'll see below. Note that lists are kind of weird, in that the first index is actually position *zero.*"
   ]
  },
  {
   "cell_type": "code",
   "execution_count": null,
   "id": "77fd764a",
   "metadata": {},
   "outputs": [],
   "source": [
    "# We create the list here, starting with your first and last name in the\n",
    "# first two positions. Notice how we can use values and variables\n",
    "# interchangeably.\n",
    "info = [first_name, last_name, \"Hello!\"]\n",
    "\n",
    "# We print out the first value of the list, by indexing into position zero\n",
    "print(\"info[0]: \" + info[0])\n",
    "\n",
    "# We can also change the value at a particular index in the list. Try\n",
    "# putting a nickname in place of your first name!\n",
    "info[0] = \"Jeeves\"\n",
    "\n",
    "# Notice how the value at info[0] changed?\n",
    "print(\"info[0], updated: \" + info[0])\n",
    "\n",
    "# We can also just print out the whole list!\n",
    "print(\"info:\", info)\n",
    "\n",
    "# Using the len() function, we can also check to see how long a list is.\n",
    "print(\"Length: \")\n",
    "print(len(info))"
   ]
  },
  {
   "cell_type": "code",
   "execution_count": null,
   "id": "4cb42945",
   "metadata": {},
   "outputs": [],
   "source": [
    "# We can even add your favorite color!\n",
    "# Note that info is a list while favorite_color is a string\n",
    "# In Python you can add lists to join them, but you can't add a list to a\n",
    "# string directly which is why we use \"[\" and \"]\" around favorite_color\n",
    "# in order to first make it into a list with one element.\n",
    "info = info + [favorite_color]\n",
    "\n",
    "print(\"info:\", info)\n",
    "\n",
    "# Another common way to add an element to the end of a list is to use the \n",
    "# .append() method. One difference is that this changes the list without you having\n",
    "# to assign the list to anything.\n",
    "info.append(favorite_number)\n",
    "\n",
    "print(\"info:\", info)"
   ]
  },
  {
   "cell_type": "markdown",
   "id": "2fd08991",
   "metadata": {},
   "source": [
    "## Functions\n",
    "\n",
    "Python has many built-in functions which *do things.* Functions take *arguments*, which are the comma-separated values in between the parentheses following the function name. You can even write your own functions, but we'll get into that later.\n",
    "\n",
    "We've already seen the `print()` function, which \"prints out\" its arguments, but there are many more. For now, however, we'll mostly be using `print()` and functions to manipulate data. Speaking of which..."
   ]
  },
  {
   "cell_type": "markdown",
   "id": "75df15ba",
   "metadata": {},
   "source": [
    "## Loops\n",
    "\n",
    "Let's say that we wanted to print out the numbers 0 through 4, we could do something like this (Try running it!):\n",
    "\n"
   ]
  },
  {
   "cell_type": "code",
   "execution_count": null,
   "id": "312726de",
   "metadata": {},
   "outputs": [],
   "source": [
    "print(0)\n",
    "print(1)\n",
    "print(2)\n",
    "print(3)\n",
    "print(4)"
   ]
  },
  {
   "cell_type": "markdown",
   "id": "db38d66b",
   "metadata": {},
   "source": [
    "That wasn't too bad, but what if we wanted to print out numbers 0 through 1,000! Having to write out so many print statements would become super repetitive.\n",
    "Instead, we can simplify the code by using *loops.* There are two popular types of loops, `for` and `while` loops. First we'll take a look at the `for` loop."
   ]
  },
  {
   "cell_type": "code",
   "execution_count": null,
   "id": "f7158b00",
   "metadata": {},
   "outputs": [],
   "source": [
    "# This loop prints the numbers 0 through 4\n",
    "for i in range(0, 5, 1):\n",
    "    print(i)"
   ]
  },
  {
   "cell_type": "markdown",
   "id": "bd9f21bc",
   "metadata": {},
   "source": [
    "Wow, that loop did so much stuff! Let's break it down.\n",
    "\n",
    "- Firstly, you probably noticed that the `print()` function call above is indented. Python uses indentation to group things together, so everything indented by one or more tabs under the `for` declaration will be looped over.\n",
    "- For loops starts with the `for` keyword that's highlighted in green. \n",
    "- Next is the variable name `i` which stores the current loop value. `in` is another necessary keyword. \n",
    "- Finally, we have the function `range(start, stop, step)` that takes in three arguments. `range()` returns numbers from `start` up to, but not including, `stop`, incrementing by size `step`.\n",
    "\n",
    "Try playing with the arguments to the `range` function! Can you print out every even number from 0 to 10 inclusive? </br><br>\n",
    "(*Hint*: To find the remainder, you can use the modulo operator `%`. For example, `9 % 3 = 0`.)"
   ]
  },
  {
   "cell_type": "markdown",
   "id": "48d9b86d",
   "metadata": {},
   "source": [
    "We can even `for` loop over the contents of a list!"
   ]
  },
  {
   "cell_type": "code",
   "execution_count": null,
   "id": "0a5da821",
   "metadata": {},
   "outputs": [],
   "source": [
    "# Here we loop over the contents of this list building up the variable\n",
    "# \"concatenated\" as we go\n",
    "\n",
    "loop_over_me = [first_name, last_name, \"is\", \"the\", \"best\"]\n",
    "\n",
    "concatenated = \"\"\n",
    "for element in loop_over_me:\n",
    "    concatenated = concatenated + element + \" \"\n",
    "    print(element)\n",
    "\n",
    "print(\"Concatenated string:\", concatenated)"
   ]
  },
  {
   "cell_type": "markdown",
   "id": "feac86a1",
   "metadata": {},
   "source": [
    "There will be 5 iterations of the for loop above (meaning that the indented code inside of the for loop will execute 5 times).\n",
    "For each iteration of the loop, the `element` variable will be set to the current item in the `loop_over_me` loop. This means\n",
    "that for the first iteration `element = first_name`, then for the second iteration `element = last_name`, and finally for the last iteration\n",
    "of the loop `element = \"best\"`."
   ]
  },
  {
   "cell_type": "markdown",
   "id": "317ce61a",
   "metadata": {},
   "source": [
    "`For` loops are great for iterating through an item of *known length*. But what if we don't know the length of the item that we want to iterate through? Introducing `while` loops!\n",
    "\n",
    "Let's make a simple dice game: We have a dice, and we win if we roll a 6. We want to see how many rolls it takes to win. Let's use a `while` loop to do this!"
   ]
  },
  {
   "cell_type": "code",
   "execution_count": null,
   "id": "4a1db9c7",
   "metadata": {
    "scrolled": true
   },
   "outputs": [],
   "source": [
    "import random as random\n",
    "rolled_number = random.randrange(1,7) # picks numbers randomly from 1 (inclusive) to 7 (exclusive)\n",
    "attempts = 1\n",
    "\n",
    "while rolled_number != 6:\n",
    "    print(\"You rolled a\", rolled_number)\n",
    "    attempts += 1\n",
    "    rolled_number = random.randrange(1,7)\n",
    "\n",
    "print(\"You rolled a\", rolled_number)\n",
    "print(\"It took you:\", attempts, \"attempts to roll a 6!\")"
   ]
  },
  {
   "cell_type": "markdown",
   "id": "beac24c9",
   "metadata": {},
   "source": [
    "Wow, that loop was awesome! Let's examine what's happening here:\n",
    "- Again, everything that we want in the `while` loops is indented.\n",
    "- `while` loops work by checking a *condition* after each iteration. Here, we are checking if our rolled number was a 6.\n",
    "- Notice how we had no idea when we would roll a 6––this is when `while` loops come in handy and are better than `for` loops!\n",
    "- If we did not roll a 6, we rolled again, while incrementing the number of attempts we made by 1.\n",
    "- Once we finally roll a 6, then we exit the while loop and run the print statements that come afterwards"
   ]
  },
  {
   "cell_type": "markdown",
   "id": "4f8588e1",
   "metadata": {},
   "source": [
    "## Conditionals\n",
    "\n",
    "We've done a lot so far, but we're not done yet! Next we're going to discuss conditional statements, which are *super important* in programming. We'll start with an example. Try running this cell with different values of `i`."
   ]
  },
  {
   "cell_type": "code",
   "execution_count": null,
   "id": "3137a4e9",
   "metadata": {},
   "outputs": [],
   "source": [
    "# Try different values of i and see what's printed!\n",
    "i = 0\n",
    "\n",
    "if i < 0: # Checked first\n",
    "    print(\"Negative\")\n",
    "elif i > 0: # Checked next\n",
    "    print(\"Positive\")\n",
    "else: # Last\n",
    "    print(\"Zero\")"
   ]
  },
  {
   "cell_type": "markdown",
   "id": "b86ba590",
   "metadata": {},
   "source": [
    "Based on the value we chose for `i` we were able to see different outputs from the program.\n",
    "Conditionals are helpful when we want to execute different pieces of code based on a certain value."
   ]
  },
  {
   "cell_type": "markdown",
   "id": "dc697e94",
   "metadata": {},
   "source": [
    "Based on the value we chose for `i` we were able to see different outputs from the program.\n",
    "Conditionals are helpful when we want to execute different pieces of code based on a certain value."
   ]
  },
  {
   "cell_type": "markdown",
   "id": "99ac8327",
   "metadata": {},
   "source": [
    "## Functions, Part 2\n",
    "\n",
    "At this point, you've used plenty of other people's functions, such as `print`. But it turns out you can also write your own!\n",
    "\n",
    "Functions allow you to write a section of code once and easily reuse it elsewhere in your program. Like loops and conditional statements, functions use indentation to group lines of code together. In Python, you *define* a function with a `def` statement.\n",
    "The function below prints every number from 1 up until some input `end`. Run the code cell below for an example."
   ]
  },
  {
   "cell_type": "code",
   "execution_count": null,
   "id": "e4fe65ae",
   "metadata": {},
   "outputs": [],
   "source": [
    "def range_print(end):\n",
    "    for i in range(0, end + 1, 1):\n",
    "        print(i)"
   ]
  },
  {
   "cell_type": "markdown",
   "id": "c47bd6a3",
   "metadata": {},
   "source": [
    "Well that's strange, it didn't *do anything*. The code above *defines* a function, but we haven't actually haven't yet told Python that we want to execute that code.\n",
    "This makes sense because we haven't told Python what the value of end will be.\n",
    "Run the code below to actually call the function that we defined."
   ]
  },
  {
   "cell_type": "code",
   "execution_count": null,
   "id": "9ff537cb",
   "metadata": {},
   "outputs": [],
   "source": [
    "range_print(5)"
   ]
  },
  {
   "cell_type": "markdown",
   "id": "b74766a7",
   "metadata": {},
   "source": [
    "**Woah, look at that!**\n",
    "\n",
    "Functions are even more powerful though. Instead of just printing things, they can also *return* data back to the function caller with the `return` keyword. Run this example to see:"
   ]
  },
  {
   "cell_type": "code",
   "execution_count": null,
   "id": "70afd2f6",
   "metadata": {},
   "outputs": [],
   "source": [
    "def range_return(start, end):\n",
    "    lst = []\n",
    "    for i in range(start, end + 1, 1):\n",
    "        lst = lst + [i]\n",
    "    return lst"
   ]
  },
  {
   "cell_type": "code",
   "execution_count": null,
   "id": "6f65b9f2",
   "metadata": {},
   "outputs": [],
   "source": [
    "print(range_return(1, 5))"
   ]
  },
  {
   "cell_type": "markdown",
   "id": "68c88ca4",
   "metadata": {},
   "source": [
    "*So what's happening here?*\n",
    "\n",
    "The function `range_return()` returns a list of values in the specified range (inclusive on both bounds, try to figure out why). Then, the `print()` function takes that list as an argument and prints the list!"
   ]
  },
  {
   "cell_type": "markdown",
   "id": "8533ccfc",
   "metadata": {},
   "source": [
    "## Lists, part 2\n",
    "\n",
    "So far, we've seen 1-D lists, but how could we represent something 2-dimensional like a Connect 4 board? The answer is creating a list of lists! Rather than storing a value like a number or string in the list, the elements of a 2-D list are themselves lists. Let's take a look at an example:"
   ]
  },
  {
   "cell_type": "code",
   "execution_count": null,
   "id": "a7b85804",
   "metadata": {},
   "outputs": [],
   "source": [
    "# There are many ways to create a 2-D list in Python, the simplest \n",
    "# being to simply nest the lists within an outer list.\n",
    "# The following list consists of students' names, ages, and favorite foods.\n",
    "student_data = [[\"John\", \"15\", \"Pizza\"], \n",
    "                [\"Alice\", \"14\", \"Tacos\"], \n",
    "                [\"Bob\", \"16\", \"Burgers\"]]\n",
    "\n",
    "# Much like before, we can print out the first value of the list by \n",
    "# indexing into position zero. To get a specific value in the 2-D list, we\n",
    "# must index into it twice, once for the outer list and once for the inner.\n",
    "print(\"student_data[0]: \", student_data[0])\n",
    "print(\"Alice's favorite food is \" + student_data[1][2])\n",
    "\n",
    "# We can similarly change the value at a particular index in the list.\n",
    "# Try replacing Bob's student data with your own by filling in the blanks\n",
    "# with the appropriate values. Also try adding a new entry to the student data.\n",
    "\n",
    "# student_data[_] = _\n",
    "\n",
    "print(\"Updated student data: \", student_data)"
   ]
  },
  {
   "cell_type": "code",
   "execution_count": null,
   "id": "2cdea9dd",
   "metadata": {},
   "outputs": [],
   "source": [
    "# We can also use loops to help set the values in a 2-D list.\n",
    "# The following sets up a grid so that each element is the product of\n",
    "# its row and column indices.\n",
    "grid = [[0,0,0,0,0],\n",
    "        [0,0,0,0,0],\n",
    "        [0,0,0,0,0],\n",
    "        [0,0,0,0,0]]\n",
    "\n",
    "for i in range(4):\n",
    "    for j in range(5):\n",
    "        grid[i][j] = i*j\n",
    "        \n",
    "print(grid)\n",
    "\n",
    "# Notice how the outer for loop ends at 4, which corresponds to the number\n",
    "# of rows, while the inner for loop ends at 5 which corresponds to the columns."
   ]
  },
  {
   "cell_type": "markdown",
   "id": "a29282a0",
   "metadata": {},
   "source": [
    "## Putting it All Together"
   ]
  },
  {
   "cell_type": "markdown",
   "id": "53abb25f",
   "metadata": {},
   "source": [
    "Below are some practice exercises to help you feel more comfortable with Python and put together everything we've covered so far!"
   ]
  },
  {
   "cell_type": "markdown",
   "id": "f964e6d2",
   "metadata": {},
   "source": [
    "1) Write a function which takes in an integer n and returns a list of numbers (1 to n) `li` where `li[i]` equals:\n",
    "* `\"fizz\"` if i is divisble 3\n",
    "* `\"buzz\"` if i is divisble by 5\n",
    "* `\"fizzbuzz\"` is i is divisible by 15\n",
    "* `i` otherwise.\n",
    "\n",
    "For example, fizzbuzz(6) should return `[1, 2, 'fizz', 4, 'buzz', 'fizz']`."
   ]
  },
  {
   "cell_type": "code",
   "execution_count": null,
   "id": "27a2aa16",
   "metadata": {},
   "outputs": [],
   "source": [
    "def fizz_buzz(n):\n",
    "    arr = []\n",
    "    for a in range(n):\n",
    "        i = a + 1\n",
    "        if i % 15 == 0:\n",
    "            arr.append('fizzbuzz')\n",
    "        elif i % 3 == 0:\n",
    "            arr.append('fizz')\n",
    "        elif i % 5 == 0:\n",
    "            arr.append('buzz')\n",
    "        else:\n",
    "            arr.append(i)\n",
    "    return arr"
   ]
  },
  {
   "cell_type": "code",
   "execution_count": null,
   "id": "0312ac2c",
   "metadata": {},
   "outputs": [],
   "source": [
    "print(fizz_buzz(15))"
   ]
  },
  {
   "cell_type": "markdown",
   "id": "6720df94",
   "metadata": {},
   "source": [
    "2) Write a function that takes in a Connect 4 board (i.e. a 2-D list) of pieces which are either `'red'` or `'yellow'` and returns the number of pieces which are red."
   ]
  },
  {
   "cell_type": "code",
   "execution_count": null,
   "id": "7b37c734",
   "metadata": {},
   "outputs": [],
   "source": [
    "import numpy as np\n",
    "# The following creates a random 5x5 grid of 'red' and 'yellow' pieces. \n",
    "grid = [['red' if val == 1 else \"yellow\" for val in np.random.binomial(size=5, n=1, p= 0.5)] for i in range(5)]\n",
    "grid"
   ]
  },
  {
   "cell_type": "code",
   "execution_count": null,
   "id": "22b216ef",
   "metadata": {},
   "outputs": [],
   "source": [
    "def count_red_pieces(grid):\n",
    "    count = 0\n",
    "    for i in grid:\n",
    "        for j in i:\n",
    "            if j == 'red':\n",
    "                count += 1\n",
    "    return count"
   ]
  },
  {
   "cell_type": "code",
   "execution_count": null,
   "id": "695672db",
   "metadata": {},
   "outputs": [],
   "source": [
    "print(count_red_pieces(grid))"
   ]
  },
  {
   "cell_type": "markdown",
   "id": "8a99d0a0",
   "metadata": {},
   "source": [
    "## Conclusion\n",
    "We know that was a lot of information, but feel free to look over this notebook again or ask us any questions! If there is time left, feel free to try the Connect 4 notebook for more advanced Python programming!\n",
    "\n"
   ]
  },
  {
   "cell_type": "markdown",
   "id": "6683440a",
   "metadata": {},
   "source": [
    "# Connect Four"
   ]
  },
  {
   "cell_type": "code",
   "execution_count": null,
   "id": "1e44fe5a",
   "metadata": {},
   "outputs": [],
   "source": [
    "\"\"\"\n",
    "This code block is setup for later. You don't need to do anything here!\n",
    "\"\"\"\n",
    "\n",
    "import matplotlib.pyplot as plt\n",
    "import matplotlib.patches as patch\n",
    "\n",
    "def draw_grid():\n",
    "    #set axis limits of plot (x=0 to 4, y=0 to 4)\n",
    "    plt.axis([0, 4, 0, 4])\n",
    "\n",
    "    #vertical lines\n",
    "    plt.axline((1, 0), (1, 6))\n",
    "    plt.axline((2, 0), (2, 6))\n",
    "    plt.axline((3, 0), (3, 6))\n",
    "    plt.axline((4, 0), (4, 6))\n",
    "    plt.axline((5, 0), (5, 6))\n",
    "    plt.axline((6, 0), (6, 6))\n",
    "\n",
    "    #horizontal lines\n",
    "    plt.axline((0, 1), (7, 1))\n",
    "    plt.axline((0, 2), (7, 2))\n",
    "    plt.axline((0, 3), (7, 3))\n",
    "    plt.axline((0, 4), (7, 4))\n",
    "    plt.axline((0, 5), (7, 5))\n",
    "    \n",
    "    for col in range(len(connect_four_grid)):\n",
    "        for piece in range(len(connect_four_grid[col])):\n",
    "            draw_circle(col, piece, connect_four_grid[col][piece])\n",
    "    \n",
    "    plt.show()\n",
    "\n",
    "def draw_circle(x_gridsquare, y_gridsquare, color):\n",
    "    #add circle to plot (gca means \"get current axis\")\n",
    "    plt.gca().add_artist(patch.Ellipse((.5+(x_gridsquare), .5+(y_gridsquare)), .7, .9, facecolor=color))\n",
    "    \n",
    "def ask_input(name):\n",
    "    print(\"What column do you want to put your piece in, \" + name + \"?\")\n",
    "    return input()\n",
    "\n",
    "def check_win():\n",
    "    return False\n",
    "\n",
    "def play_connectfour():\n",
    "    print(\"What is player 1's name?\")\n",
    "    p1name = input()\n",
    "    print(\"What is player 2's name?\")\n",
    "    p2name = input()\n",
    "    p1turn = True\n",
    "    gameWon = False\n",
    "    while not gameWon:\n",
    "        if p1turn:\n",
    "            chosen_col = ask_input(p1name)\n",
    "            if chosen_col == \"quit\":\n",
    "                gameWon = True\n",
    "            else:\n",
    "                while not add_piece_to_board(int(chosen_col), 'red'):\n",
    "                    chosen_col = ask_input(p1name)\n",
    "            gameWon = check_win()\n",
    "            p1turn ^= True\n",
    "        else:\n",
    "            chosen_col = ask_input(p2name)\n",
    "            if chosen_col == \"quit\":\n",
    "                gameWon = True\n",
    "            else:\n",
    "                while not add_piece_to_board(int(chosen_col), 'blue'):\n",
    "                    chosen_col = ask_input(p2name)\n",
    "            gameWon = check_win()\n",
    "            p1turn ^= True\n",
    "        draw_grid()\n",
    "    if gameWon:\n",
    "        print(\"Game over!\")\n",
    "\n",
    "connect_four_grid = [\n",
    "    [],\n",
    "    [],\n",
    "    [],\n",
    "    []\n",
    "]"
   ]
  },
  {
   "cell_type": "markdown",
   "id": "ddb02381",
   "metadata": {},
   "source": [
    "As you can see, we have a grid now set up in the shape of a connect four board. But, we don't have any pieces! We will demonstrate how we can use a method to place pieces in the grid. Then, you'll work on creating a game that you and a friend can play!"
   ]
  },
  {
   "cell_type": "code",
   "execution_count": null,
   "id": "939f6328",
   "metadata": {},
   "outputs": [],
   "source": [
    "draw_circle(1, 0, 'red')\n",
    "draw_circle(1, 1, 'blue')\n",
    "draw_grid()"
   ]
  },
  {
   "cell_type": "markdown",
   "id": "a3e8b038",
   "metadata": {},
   "source": [
    "In the example above, we use two methods in a specific order to create the game board. draw_circle has 3 arguments, an x value, a y value, and a color string. draw_grid has no arguments, and we have to call it last to draw the board correctly. Notice that the x and y values start counting from 0 instead of 1.\n",
    "\n",
    "In the cell below, try to draw a circle of your favorite color anywhere on the grid by filling in the blanks."
   ]
  },
  {
   "cell_type": "code",
   "execution_count": null,
   "id": "b91a5494",
   "metadata": {
    "scrolled": false
   },
   "outputs": [],
   "source": [
    "#draw_circle(_, _, _)\n",
    "draw_grid()"
   ]
  },
  {
   "cell_type": "markdown",
   "id": "7508f295",
   "metadata": {},
   "source": [
    "Now, let's talk about how we can play the game. Below, we've provided a function that will run through like a normal game of connect four. However, it doesn't work quite right just yet. Your task is to work through and fix the different things we will need in order to play the game!"
   ]
  },
  {
   "cell_type": "markdown",
   "id": "281d53d6",
   "metadata": {},
   "source": [
    "## Step 1 - Adding pieces to the grid"
   ]
  },
  {
   "cell_type": "markdown",
   "id": "b9fbbe22",
   "metadata": {},
   "source": [
    "First, we need a method that allows us to put a piece in the column we want. In real connect four, it's not possible to simply put a piece anywhere you want. Instead, you can only choose what column to put a piece in, and in our case we have to adapt this to 2-D lists like you've seen before."
   ]
  },
  {
   "cell_type": "code",
   "execution_count": null,
   "id": "d6d9dea5",
   "metadata": {},
   "outputs": [],
   "source": [
    "connect_four_grid = [\n",
    "    [],\n",
    "    [],\n",
    "    [],\n",
    "    []\n",
    "]"
   ]
  },
  {
   "cell_type": "markdown",
   "id": "7629b303",
   "metadata": {},
   "source": [
    "This 2-D list represents our grid, and each of the inner lists represents a _column_ of pieces. So, for example, a list that looks like this:"
   ]
  },
  {
   "cell_type": "code",
   "execution_count": null,
   "id": "de8330b5",
   "metadata": {},
   "outputs": [],
   "source": [
    "connect_four_grid = [\n",
    "    ['red', 'red', 'red', 'blue'],\n",
    "    [],\n",
    "    ['yellow'],\n",
    "    ['purple', 'red']\n",
    "]"
   ]
  },
  {
   "cell_type": "markdown",
   "id": "af576933",
   "metadata": {},
   "source": [
    "Would show up like this:"
   ]
  },
  {
   "cell_type": "code",
   "execution_count": null,
   "id": "28e4889b",
   "metadata": {},
   "outputs": [],
   "source": [
    "draw_grid()"
   ]
  },
  {
   "cell_type": "markdown",
   "id": "67e3bd0d",
   "metadata": {},
   "source": [
    "But since we don't know ahead of time where the players want to put their pieces, we will make use of a function to handle this for us. Your job is to fill in the `add_piece_to_board` function below:"
   ]
  },
  {
   "cell_type": "code",
   "execution_count": null,
   "id": "73b38746",
   "metadata": {},
   "outputs": [],
   "source": [
    "def add_piece_to_board(column, color):\n",
    "    # There will be 2 cases: what to do normally, and what to do if the column is already full.\n",
    "    \n",
    "    \n",
    "    # We'll start with what to do normally.\n",
    "    # First, we need to make sure that the column isn't full yet.\n",
    "    # In other words, check that the len() function of the column isn't 4 or more.\n",
    "    # In that case, we need to add the given color into the column we have\n",
    "    # been given. For that, try using the function append().\n",
    "    # Then, we want to return a value that means that your move worked.\n",
    "    \n",
    "    if len(connect_four_grid[column]) < 4:\n",
    "        connect_four_grid[column].append(color)\n",
    "        return True\n",
    "        \n",
    "    # If the column is already full, though, we need a way to tell the player they can't do that.\n",
    "    # In this case, you don't need to add anything to the column or change it.\n",
    "    \n",
    "    else:\n",
    "        return False"
   ]
  },
  {
   "cell_type": "markdown",
   "id": "fcf0e772",
   "metadata": {},
   "source": [
    "You can check your work with the cell below, to see if you can place your pieces right in a game."
   ]
  },
  {
   "cell_type": "code",
   "execution_count": null,
   "id": "00e0da52",
   "metadata": {
    "scrolled": false
   },
   "outputs": [],
   "source": [
    "connect_four_grid = [\n",
    "    [],\n",
    "    [],\n",
    "    [],\n",
    "    []\n",
    "]\n",
    "\n",
    "play_connectfour()"
   ]
  },
  {
   "cell_type": "markdown",
   "id": "5aacc8da",
   "metadata": {},
   "source": [
    "## Step 2 - Checking if somebody has won the game"
   ]
  },
  {
   "cell_type": "markdown",
   "id": "fae74920",
   "metadata": {},
   "source": [
    "Great! Now it's time to check if someone won the game. In the interest of keeping it reasonable, let's only consider vertical and horizontal wins."
   ]
  },
  {
   "cell_type": "code",
   "execution_count": null,
   "id": "2ec195ec",
   "metadata": {},
   "outputs": [],
   "source": [
    "def check_win(): # Return TRUE if there is a row or column of four, and FALSE if not\n",
    "    # Let's start by considering vertical wins first.\n",
    "    # You can use the array .count() function here to check how many of something there is in\n",
    "    # an array.\n",
    "    for col in connect_four_grid:\n",
    "        if col.count('red') >= 4 or col.count('blue') >= 4:\n",
    "            return True\n",
    "\n",
    "    # Now let's look at horizontal wins.\n",
    "    # This works much like the previous column wins, except since we're looking at rows,\n",
    "    # we have to use the transpose of the grid.\n",
    "    connect_four_grid_transpose = [list(i) for i in zip(*connect_four_grid)]\n",
    "    for row in connect_four_grid_transpose:\n",
    "        if row.count('red') >= 4 or row.count('blue') >= 4:\n",
    "            return True\n",
    "    \n",
    "    return False"
   ]
  },
  {
   "cell_type": "markdown",
   "id": "09b2d376",
   "metadata": {},
   "source": [
    "## Playing the game"
   ]
  },
  {
   "cell_type": "markdown",
   "id": "b0a4a63d",
   "metadata": {},
   "source": [
    "Now it's time to test all the parts together. See if you can play the game!"
   ]
  },
  {
   "cell_type": "code",
   "execution_count": null,
   "id": "51373e8a",
   "metadata": {
    "scrolled": false
   },
   "outputs": [],
   "source": [
    "connect_four_grid = [\n",
    "    [],\n",
    "    [],\n",
    "    [],\n",
    "    []\n",
    "]\n",
    "\n",
    "play_connectfour()"
   ]
  },
  {
   "cell_type": "markdown",
   "id": "8edefbc5",
   "metadata": {},
   "source": [
    "## Extra Challenges"
   ]
  },
  {
   "cell_type": "markdown",
   "id": "d128428c",
   "metadata": {},
   "source": [
    "Below, we have some extra challenges you can try if you have time. These are just for fun, so don't worry if you don't have time/aren't sure how to complete them."
   ]
  },
  {
   "cell_type": "markdown",
   "id": "92d643a6",
   "metadata": {},
   "source": [
    "### Extra challenge - Diagonal wins"
   ]
  },
  {
   "cell_type": "markdown",
   "id": "39ec2032",
   "metadata": {},
   "source": [
    "The check_win() function you wrote doesn't check for diagonal wins. Can you come up with a way to do this on a 4x4 board? Revisit that function above to try it out."
   ]
  },
  {
   "cell_type": "markdown",
   "id": "251055b9",
   "metadata": {},
   "source": [
    "### Extra challenge - Full sized board"
   ]
  },
  {
   "cell_type": "markdown",
   "id": "d4274c4e",
   "metadata": {},
   "source": [
    "In this version, we only have a 4x4 connect four grid. However, the real game is 7x6. In the Advanced version below, you can try to redo this lab with a full sized board for an extra challenge!"
   ]
  },
  {
   "cell_type": "markdown",
   "id": "990f34ce",
   "metadata": {},
   "source": [
    "# Connect Four - Advanced"
   ]
  },
  {
   "cell_type": "markdown",
   "id": "958853d6",
   "metadata": {},
   "source": [
    "In this version of connect four, you'll take on the task of rewriting it to use a 7x6 grid instead of a 4x4!"
   ]
  },
  {
   "cell_type": "code",
   "execution_count": null,
   "id": "d8a10e52",
   "metadata": {},
   "outputs": [],
   "source": [
    "\"\"\"\n",
    "This code block is setup for later. You don't need to do anything here!\n",
    "\"\"\"\n",
    "\n",
    "def draw_grid_adv():\n",
    "    #set axis limits of plot (x=0 to 7, y=0 to 6)\n",
    "    plt.axis([0, 7, 0, 6])\n",
    "\n",
    "    #vertical lines\n",
    "    plt.axline((1, 0), (1, 6))\n",
    "    plt.axline((2, 0), (2, 6))\n",
    "    plt.axline((3, 0), (3, 6))\n",
    "    plt.axline((4, 0), (4, 6))\n",
    "    plt.axline((5, 0), (5, 6))\n",
    "    plt.axline((6, 0), (6, 6))\n",
    "\n",
    "    #horizontal lines\n",
    "    plt.axline((0, 1), (7, 1))\n",
    "    plt.axline((0, 2), (7, 2))\n",
    "    plt.axline((0, 3), (7, 3))\n",
    "    plt.axline((0, 4), (7, 4))\n",
    "    plt.axline((0, 5), (7, 5))\n",
    "    \n",
    "    for col in range(len(connect_four_grid_adv)):\n",
    "        for piece in range(len(connect_four_grid_adv[col])):\n",
    "            draw_circle(col, piece, connect_four_grid_adv[col][piece])\n",
    "    \n",
    "    plt.show()\n",
    "\n",
    "def draw_circle(x_gridsquare, y_gridsquare, color):\n",
    "    #add circle to plot (gca means \"get current axis\")\n",
    "    plt.gca().add_artist(patch.Ellipse((.5+(x_gridsquare), .5+(y_gridsquare)), .7, .9, facecolor=color))\n",
    "    \n",
    "def ask_input(name):\n",
    "    print(\"What column do you want to put your piece in, \" + name + \"?\")\n",
    "    return input()\n",
    "\n",
    "def check_win_adv():\n",
    "    return False\n",
    "\n",
    "def play_connectfour_adv():\n",
    "    print(\"What is player 1's name?\")\n",
    "    p1name = input()\n",
    "    print(\"What is player 2's name?\")\n",
    "    p2name = input()\n",
    "    p1turn = True\n",
    "    gameWon = False\n",
    "    while not gameWon:\n",
    "        if p1turn:\n",
    "            chosen_col = ask_input(p1name)\n",
    "            if chosen_col == \"quit\":\n",
    "                gameWon = True\n",
    "            else:\n",
    "                while not add_piece_to_board_adv(int(chosen_col), 'red'):\n",
    "                    chosen_col = ask_input(p1name)\n",
    "            gameWon = check_win_adv()\n",
    "            p1turn ^= True\n",
    "        else:\n",
    "            chosen_col = ask_input(p2name)\n",
    "            if chosen_col == \"quit\":\n",
    "                gameWon = True\n",
    "            else:\n",
    "                while not add_piece_to_board_adv(int(chosen_col), 'blue'):\n",
    "                    chosen_col = ask_input(p2name)\n",
    "            gameWon = check_win_adv()\n",
    "            p1turn ^= True\n",
    "        draw_grid_adv()\n",
    "    if gameWon:\n",
    "        print(\"Game over!\")\n",
    "\n",
    "connect_four_grid_adv = [\n",
    "    [],\n",
    "    [],\n",
    "    [],\n",
    "    [],\n",
    "    [],\n",
    "    [],\n",
    "    []\n",
    "]"
   ]
  },
  {
   "cell_type": "markdown",
   "id": "412de96d",
   "metadata": {},
   "source": [
    "As you can see, we have a grid now set up in the shape of a connect four board. But, we don't have any pieces! We will demonstrate how we can use a method to place pieces in the grid. Then, you'll work on creating a game that you and a friend can play!"
   ]
  },
  {
   "cell_type": "code",
   "execution_count": null,
   "id": "9a4df74d",
   "metadata": {},
   "outputs": [],
   "source": [
    "draw_circle(1, 0, 'red')\n",
    "draw_circle(1, 1, 'blue')\n",
    "draw_grid_adv()"
   ]
  },
  {
   "cell_type": "markdown",
   "id": "333d6eb3",
   "metadata": {},
   "source": [
    "In the example above, we use two methods in a specific order to create the game board. draw_circle has 3 arguments, an x value, a y value, and a color string. draw_grid has no arguments, and we have to call it last to draw the board correctly. Notice that the x and y values start counting from 0 instead of 1.\n",
    "\n",
    "In the cell below, try to draw a circle of your favorite color anywhere on the grid by filling in the blanks."
   ]
  },
  {
   "cell_type": "code",
   "execution_count": null,
   "id": "01591234",
   "metadata": {
    "scrolled": false
   },
   "outputs": [],
   "source": [
    "#draw_circle(_, _, _)\n",
    "draw_grid_adv()"
   ]
  },
  {
   "cell_type": "markdown",
   "id": "1b87af0d",
   "metadata": {},
   "source": [
    "Now, let's talk about how we can play the game. Below, we've provided a function that will run through like a normal game of connect four. However, it doesn't work quite right just yet. Your task is to work through and fix the different things we will need in order to play the game!"
   ]
  },
  {
   "cell_type": "markdown",
   "id": "b5155a6e",
   "metadata": {},
   "source": [
    "## Step 1 - Adding pieces to the grid"
   ]
  },
  {
   "cell_type": "markdown",
   "id": "3bbf5f73",
   "metadata": {},
   "source": [
    "First, we need a method that allows us to put a piece in the column we want. In real connect four, it's not possible to simply put a piece anywhere you want. Instead, you can only choose what column to put a piece in, and in our case we have to adapt this to 2-D lists like you've seen before."
   ]
  },
  {
   "cell_type": "code",
   "execution_count": null,
   "id": "40869474",
   "metadata": {},
   "outputs": [],
   "source": [
    "connect_four_grid_adv = [\n",
    "    [],\n",
    "    [],\n",
    "    [],\n",
    "    [],\n",
    "    [],\n",
    "    [],\n",
    "    []\n",
    "]"
   ]
  },
  {
   "cell_type": "markdown",
   "id": "6007b2aa",
   "metadata": {},
   "source": [
    "This 2-D list represents our grid, and each of the inner lists represents a _column_ of pieces. So, for example, a list that looks like this:"
   ]
  },
  {
   "cell_type": "code",
   "execution_count": null,
   "id": "7227f5fd",
   "metadata": {},
   "outputs": [],
   "source": [
    "connect_four_grid_adv = [\n",
    "    ['red', 'red', 'red', 'blue'],\n",
    "    [],\n",
    "    [],\n",
    "    [],\n",
    "    ['yellow'],\n",
    "    [],\n",
    "    ['purple', 'red']\n",
    "]"
   ]
  },
  {
   "cell_type": "markdown",
   "id": "37de28d6",
   "metadata": {},
   "source": [
    "Would show up like this:"
   ]
  },
  {
   "cell_type": "code",
   "execution_count": null,
   "id": "0dc4229d",
   "metadata": {},
   "outputs": [],
   "source": [
    "draw_grid_adv()"
   ]
  },
  {
   "cell_type": "markdown",
   "id": "5e0110fe",
   "metadata": {},
   "source": [
    "But since we don't know ahead of time where the players want to put their pieces, we will make use of a function to handle this for us. Your job is to fill in the `add_piece_to_board` function below:"
   ]
  },
  {
   "cell_type": "code",
   "execution_count": null,
   "id": "ae30fa26",
   "metadata": {},
   "outputs": [],
   "source": [
    "def add_piece_to_board_adv(column, color):\n",
    "    # There will be 2 cases: what to do normally, and what to do if the column is already full.\n",
    "    \n",
    "    \n",
    "    # We'll start with what to do normally.\n",
    "    # First, we need to make sure that the column isn't full yet.\n",
    "    # In other words, check that the len() function of the column isn't 4 or more.\n",
    "    # In that case, we need to add the given color into the column we have\n",
    "    # been given. For that, try using the function append().\n",
    "    # Then, we want to return a value that means that your move worked.\n",
    "    \n",
    "    if len(connect_four_grid_adv[column]) < 6:\n",
    "        connect_four_grid_adv[column].append(color)\n",
    "        return True\n",
    "        \n",
    "    # If the column is already full, though, we need a way to tell the player they can't do that.\n",
    "    # In this case, you don't need to add anything to the column or change it.\n",
    "    \n",
    "    else:\n",
    "        return False"
   ]
  },
  {
   "cell_type": "markdown",
   "id": "ed93c7c9",
   "metadata": {},
   "source": [
    "You can check your work with the cell below, to see if you can place your pieces right in a game."
   ]
  },
  {
   "cell_type": "code",
   "execution_count": null,
   "id": "8710dd8a",
   "metadata": {
    "scrolled": false
   },
   "outputs": [],
   "source": [
    "connect_four_grid_adv = [\n",
    "    [],\n",
    "    [],\n",
    "    [],\n",
    "    [],\n",
    "    [],\n",
    "    [],\n",
    "    []\n",
    "]\n",
    "\n",
    "play_connectfour_adv()"
   ]
  },
  {
   "cell_type": "markdown",
   "id": "98899d5a",
   "metadata": {},
   "source": [
    "## Step 2 - Checking if somebody has won the game"
   ]
  },
  {
   "cell_type": "markdown",
   "id": "52df5d9b",
   "metadata": {},
   "source": [
    "Great! Now it's time to check if someone won the game. Since this is the advanced section, try to consider vertical, horizontal, and diagonal wins."
   ]
  },
  {
   "cell_type": "code",
   "execution_count": null,
   "id": "fec5b72a",
   "metadata": {},
   "outputs": [],
   "source": [
    "def check_win_adv(): # Return TRUE if there is a row or column of four, and FALSE if not\n",
    "    # Advanced solution code adapted from https://stackoverflow.com/a/56351919\n",
    "    \n",
    "    #ret = False\n",
    "    \n",
    "    cols = connect_four_grid_adv\n",
    "    \n",
    "    for i in range(7): # Each column\n",
    "        for j in range(6): # Each row\n",
    "            try: #check if the element at these coordinates exists yet\n",
    "                cols[i][j]\n",
    "            except IndexError:\n",
    "                break\n",
    "                # go back to next i - impossible that there's anything with a higher\n",
    "                # j because if a list is n items long, and we go to j (which is one\n",
    "                # higher than n and doesn't exist) then there can't be an element at\n",
    "                # index j + someNumber.\n",
    "            ret = False\n",
    "            try: #vertical: j is the index in each column, so this goes up the column\n",
    "                if cols[i][j] == cols[i][j+1] == cols[i][j+2] == cols[i][j+3] is not None:\n",
    "                    ret = True\n",
    "            except IndexError: #one of the elements of the comparison doesn't exist\n",
    "                pass #We can't be sure that none of the other trials will return True\n",
    "            try: #horizontal\n",
    "                if cols[i][j] == cols[i+1][j] == cols[i+2][j] == cols[i+3][j] is not None:\n",
    "                    ret = True\n",
    "            except IndexError:\n",
    "                pass\n",
    "            try: #diagonal\n",
    "                if cols[i][j] == cols[i+1][j+1] == cols[i+2][j+2] == cols[i+3][j+3] is not None:\n",
    "                    ret = True\n",
    "            except IndexError:\n",
    "                pass\n",
    "            try: #other diagonal\n",
    "                if cols[i][j] == cols[i-1][j+1] == cols[i-2][j+2] == cols[i-3][j+3] is not None:\n",
    "                    ret = True\n",
    "            except IndexError:\n",
    "                pass\n",
    "            if ret:\n",
    "                return True\n",
    "    \n",
    "    return False"
   ]
  },
  {
   "cell_type": "markdown",
   "id": "82d02735",
   "metadata": {},
   "source": [
    "## Playing the game"
   ]
  },
  {
   "cell_type": "markdown",
   "id": "9a6133d8",
   "metadata": {},
   "source": [
    "Now it's time to test all the parts together. See if you can play the game!"
   ]
  },
  {
   "cell_type": "code",
   "execution_count": null,
   "id": "97c31c28",
   "metadata": {
    "scrolled": false
   },
   "outputs": [],
   "source": [
    "connect_four_grid_adv = [\n",
    "    [],\n",
    "    [],\n",
    "    [],\n",
    "    [],\n",
    "    [],\n",
    "    [],\n",
    "    []\n",
    "]\n",
    "\n",
    "play_connectfour_adv()"
   ]
  }
 ],
 "metadata": {
  "kernelspec": {
   "display_name": "Python 3 (ipykernel)",
   "language": "python",
   "name": "python3"
  },
  "language_info": {
   "codemirror_mode": {
    "name": "ipython",
    "version": 3
   },
   "file_extension": ".py",
   "mimetype": "text/x-python",
   "name": "python",
   "nbconvert_exporter": "python",
   "pygments_lexer": "ipython3",
   "version": "3.9.7"
  },
  "vscode": {
   "interpreter": {
    "hash": "b0fa6594d8f4cbf19f97940f81e996739fb7646882a419484c72d19e05852a7e"
   }
  }
 },
 "nbformat": 4,
 "nbformat_minor": 5
}
