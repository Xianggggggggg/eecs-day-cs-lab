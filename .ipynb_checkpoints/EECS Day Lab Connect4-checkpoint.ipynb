{
 "cells": [
  {
   "cell_type": "markdown",
   "id": "d3768267",
   "metadata": {},
   "source": [
    "# Connect Four"
   ]
  },
  {
   "cell_type": "code",
   "execution_count": 59,
   "id": "b7f432d5",
   "metadata": {},
   "outputs": [],
   "source": [
    "\"\"\"\n",
    "This code block is setup for later. You don't need to do anything here!\n",
    "\"\"\"\n",
    "\n",
    "import matplotlib.pyplot as plt\n",
    "import matplotlib.patches as patch\n",
    "\n",
    "def draw_grid():\n",
    "    #set axis limits of plot (x=0 to 7, y=0 to 6)\n",
    "    plt.axis([0, 7, 0, 6])\n",
    "\n",
    "    #vertical lines\n",
    "    plt.axline((1, 0), (1, 6))\n",
    "    plt.axline((2, 0), (2, 6))\n",
    "    plt.axline((3, 0), (3, 6))\n",
    "    plt.axline((4, 0), (4, 6))\n",
    "    plt.axline((5, 0), (5, 6))\n",
    "    plt.axline((6, 0), (6, 6))\n",
    "\n",
    "    #horizontal lines\n",
    "    plt.axline((0, 1), (7, 1))\n",
    "    plt.axline((0, 2), (7, 2))\n",
    "    plt.axline((0, 3), (7, 3))\n",
    "    plt.axline((0, 4), (7, 4))\n",
    "    plt.axline((0, 5), (7, 5))\n",
    "    \n",
    "    for col in range(len(connect_four_grid)):\n",
    "        for piece in range(len(connect_four_grid[col])):\n",
    "            draw_circle(col, piece, connect_four_grid[col][piece])\n",
    "    \n",
    "    plt.show()\n",
    "\n",
    "def draw_circle(x_gridsquare, y_gridsquare, color):\n",
    "    #add circle to plot (gca means \"get current axis\")\n",
    "    plt.gca().add_artist(patch.Ellipse((.5+(1*x_gridsquare), .5+(1*y_gridsquare)), .7, .9, facecolor=color))\n",
    "    \n",
    "def ask_input(name):\n",
    "    print(\"What column do you want to put your piece in, \" + name + \"?\")\n",
    "    return input()\n",
    "\n",
    "def check_win():\n",
    "    return False"
   ]
  },
  {
   "cell_type": "markdown",
   "id": "befafa2f",
   "metadata": {},
   "source": [
    "As you can see, we have a grid now set up in the shape of a connect four board. But, we don't have any pieces! We will demonstrate how we can use a method to place pieces in the grid. Then, you'll work on creating a game that you and a friend can play!"
   ]
  },
  {
   "cell_type": "code",
   "execution_count": 60,
   "id": "63e0bf9f",
   "metadata": {},
   "outputs": [
    {
     "data": {
      "image/png": "[encoded data removed]",
      "text/plain": [
       "<Figure size 432x288 with 1 Axes>"
      ]
     },
     "metadata": {
      "needs_background": "light"
     },
     "output_type": "display_data"
    }
   ],
   "source": [
    "draw_circle(1, 0, 'red')\n",
    "draw_circle(1, 1, 'blue')\n",
    "draw_grid()"
   ]
  },
  {
   "cell_type": "markdown",
   "id": "37856902",
   "metadata": {},
   "source": [
    "In the example above, we use two methods in a specific order to create the game board. draw_circle has 3 arguments, an x value, a y value, and a color string. draw_grid has no arguments, and we have to call it last to draw the board correctly. Notice that the x and y values start counting from 0 instead of 1.\n",
    "\n",
    "In the cell below, try to draw a circle of your favorite color anywhere on the grid by filling in the blanks."
   ]
  },
  {
   "cell_type": "code",
   "execution_count": 61,
   "id": "045b2809",
   "metadata": {
    "scrolled": false
   },
   "outputs": [
    {
     "data": {
      "image/png": "[encoded data removed]",
      "text/plain": [
       "<Figure size 432x288 with 1 Axes>"
      ]
     },
     "metadata": {
      "needs_background": "light"
     },
     "output_type": "display_data"
    }
   ],
   "source": [
    "#draw_circle(_, _, _)\n",
    "draw_grid()"
   ]
  },
  {
   "cell_type": "markdown",
   "id": "338e226b",
   "metadata": {},
   "source": [
    "Now, let's talk about how we can play the game. Below, we've provided a function that will run through like a normal game of connect four. However, it doesn't work quite right just yet. Your task is to work through and fix the different things we will need in order to play the game!"
   ]
  },
  {
   "cell_type": "code",
   "execution_count": 71,
   "id": "4b6c3c96",
   "metadata": {},
   "outputs": [],
   "source": [
    "def play_connectfour():\n",
    "    print(\"What is player 1's name?\")\n",
    "    p1name = input()\n",
    "    print(\"What is player 2's name?\")\n",
    "    p2name = input()\n",
    "    p1turn = True\n",
    "    gameWon = False\n",
    "    while not gameWon:\n",
    "        gameWon = check_win()\n",
    "        if p1turn:\n",
    "            chosen_col = ask_input(p1name)\n",
    "            if chosen_col == \"quit\":\n",
    "                gameWon = True\n",
    "            else:\n",
    "                while not add_piece_to_board(int(chosen_col), 'red'):\n",
    "                    chosen_col = ask_input(p1name)\n",
    "            p1turn ^= True\n",
    "        else:\n",
    "            chosen_col = ask_input(p2name)\n",
    "            if chosen_col == \"quit\":\n",
    "                gameWon = True\n",
    "            else:\n",
    "                while not add_piece_to_board(int(chosen_col), 'blue'):\n",
    "                    chosen_col = ask_input(p2name)\n",
    "            p1turn ^= True\n",
    "        draw_grid()"
   ]
  },
  {
   "cell_type": "markdown",
   "id": "30c03f7d",
   "metadata": {},
   "source": [
    "# Step 1 - Adding pieces to the grid"
   ]
  },
  {
   "cell_type": "markdown",
   "id": "8d228ba6",
   "metadata": {},
   "source": [
    "First, we need a method that allows us to put a piece in the column we want. In real connect four, it's not possible to simply put a piece anywhere you want. Instead, you can only choose what column to put a piece in, and in our case we have to adapt this to 2-D lists like you've seen before."
   ]
  },
  {
   "cell_type": "code",
   "execution_count": 63,
   "id": "a0d3a46f",
   "metadata": {},
   "outputs": [],
   "source": [
    "connect_four_grid = [\n",
    "    [],\n",
    "    [],\n",
    "    [],\n",
    "    [],\n",
    "    [],\n",
    "    [],\n",
    "    []\n",
    "]"
   ]
  },
  {
   "cell_type": "markdown",
   "id": "0376df09",
   "metadata": {},
   "source": [
    "This 2-D list represents our grid, and each of the inner lists represents a _column_ of pieces. So, for example, a list that looks like this:"
   ]
  },
  {
   "cell_type": "code",
   "execution_count": 64,
   "id": "f85d6891",
   "metadata": {},
   "outputs": [],
   "source": [
    "connect_four_grid = [\n",
    "    ['red', 'red', 'red', 'blue'],\n",
    "    [],\n",
    "    ['yellow'],\n",
    "    [],\n",
    "    ['purple', 'red'],\n",
    "    [],\n",
    "    []\n",
    "]"
   ]
  },
  {
   "cell_type": "markdown",
   "id": "caf182f6",
   "metadata": {},
   "source": [
    "Would show up like this:"
   ]
  },
  {
   "cell_type": "code",
   "execution_count": 65,
   "id": "eb776a01",
   "metadata": {},
   "outputs": [
    {
     "data": {
      "image/png": "[encoded data removed]",
      "text/plain": [
       "<Figure size 432x288 with 1 Axes>"
      ]
     },
     "metadata": {
      "needs_background": "light"
     },
     "output_type": "display_data"
    }
   ],
   "source": [
    "draw_grid()"
   ]
  },
  {
   "cell_type": "markdown",
   "id": "214a33b2",
   "metadata": {},
   "source": [
    "But since we don't know ahead of time where the players want to put their pieces, we will make use of a function to handle this for us. Your job is to fill in the `add_piece_to_board` function below:"
   ]
  },
  {
   "cell_type": "code",
   "execution_count": 69,
   "id": "b865bef5",
   "metadata": {},
   "outputs": [],
   "source": [
    "def add_piece_to_board(column, color):\n",
    "    # There will be 2 cases: what to do normally, and what to do if the column is already full.\n",
    "    \n",
    "    \n",
    "    # We'll start with what to do normally. In that case, we need to add the given color into the column we have\n",
    "    # been given. For that, try using the function append().\n",
    "    # Then, we want to return a value that means that your move worked.\n",
    "    \n",
    "    if len(connect_four_grid[column]) < 6:\n",
    "        connect_four_grid[column].append(color)\n",
    "        return True\n",
    "        \n",
    "    # If the column is already full, though, we need a way to tell the player they can't do that.\n",
    "    # In this case, you don't need to add anything to the column or change it.\n",
    "    \n",
    "    else:\n",
    "        return False"
   ]
  },
  {
   "cell_type": "markdown",
   "id": "bb2f205f",
   "metadata": {},
   "source": [
    "You can check your work with the cell below, to see if you can place your pieces right in a game."
   ]
  },
  {
   "cell_type": "code",
   "execution_count": 72,
   "id": "ae491ed0",
   "metadata": {
    "scrolled": false
   },
   "outputs": [
    {
     "name": "stdout",
     "output_type": "stream",
     "text": [
      "What is player 1's name?\n",
      "a\n",
      "What is player 2's name?\n",
      "b\n",
      "What column do you want to put your piece in, a?\n",
      "quit\n"
     ]
    },
    {
     "data": {
      "image/png": "[encoded data removed]",
      "text/plain": [
       "<Figure size 432x288 with 1 Axes>"
      ]
     },
     "metadata": {
      "needs_background": "light"
     },
     "output_type": "display_data"
    }
   ],
   "source": [
    "connect_four_grid = [\n",
    "    [],\n",
    "    [],\n",
    "    [],\n",
    "    [],\n",
    "    [],\n",
    "    [],\n",
    "    []\n",
    "]\n",
    "\n",
    "play_connectfour()"
   ]
  },
  {
   "cell_type": "markdown",
   "id": "0fa008d1",
   "metadata": {},
   "source": [
    "# Step 2 - Checking if somebody has won the game"
   ]
  },
  {
   "cell_type": "markdown",
   "id": "5ca00ff9",
   "metadata": {},
   "source": [
    "Great! Now it's time to check if someone won the game. In the interest of keeping it reasonable, let's only consider vertical and horizontal wins."
   ]
  },
  {
   "cell_type": "code",
   "execution_count": 35,
   "id": "b9b0288e",
   "metadata": {},
   "outputs": [],
   "source": [
    "def check_win(): # Return TRUE if there is a row or column of four, and FALSE if not\n",
    "    # Let's start by considering vertical wins first.\n",
    "    for col in connect_four_grid:"
   ]
  }
 ],
 "metadata": {
  "kernelspec": {
   "display_name": "Python 3 (ipykernel)",
   "language": "python",
   "name": "python3"
  },
  "language_info": {
   "codemirror_mode": {
    "name": "ipython",
    "version": 3
   },
   "file_extension": ".py",
   "mimetype": "text/x-python",
   "name": "python",
   "nbconvert_exporter": "python",
   "pygments_lexer": "ipython3",
   "version": "3.9.7"
  }
 },
 "nbformat": 4,
 "nbformat_minor": 5
}
